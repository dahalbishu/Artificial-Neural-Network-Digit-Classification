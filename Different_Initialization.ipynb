{
 "cells": [
  {
   "cell_type": "code",
   "execution_count": 1,
   "id": "ab7ed89f-00f8-4c90-9d05-444ebc513bfa",
   "metadata": {},
   "outputs": [],
   "source": [
    "import numpy as np\n",
    "import pandas as pd\n",
    "import matplotlib.pyplot as plt\n",
    "import random"
   ]
  },
  {
   "cell_type": "code",
   "execution_count": 2,
   "id": "24897a60-8620-4201-b75a-dc52f3e7ffcd",
   "metadata": {},
   "outputs": [],
   "source": [
    "np.random.seed(52)"
   ]
  },
  {
   "cell_type": "code",
   "execution_count": 3,
   "id": "b98002a8-25f1-434c-a9f3-52ec8e2b9c33",
   "metadata": {},
   "outputs": [],
   "source": [
    "df = pd.read_csv('digit_data.csv')"
   ]
  },
  {
   "cell_type": "code",
   "execution_count": 4,
   "id": "4c6968c6-8a12-4232-91f8-9d9cd24db830",
   "metadata": {},
   "outputs": [
    {
     "data": {
      "text/html": [
       "<div>\n",
       "<style scoped>\n",
       "    .dataframe tbody tr th:only-of-type {\n",
       "        vertical-align: middle;\n",
       "    }\n",
       "\n",
       "    .dataframe tbody tr th {\n",
       "        vertical-align: top;\n",
       "    }\n",
       "\n",
       "    .dataframe thead th {\n",
       "        text-align: right;\n",
       "    }\n",
       "</style>\n",
       "<table border=\"1\" class=\"dataframe\">\n",
       "  <thead>\n",
       "    <tr style=\"text-align: right;\">\n",
       "      <th></th>\n",
       "      <th>label</th>\n",
       "      <th>pixel0</th>\n",
       "      <th>pixel1</th>\n",
       "      <th>pixel2</th>\n",
       "      <th>pixel3</th>\n",
       "      <th>pixel4</th>\n",
       "      <th>pixel5</th>\n",
       "      <th>pixel6</th>\n",
       "      <th>pixel7</th>\n",
       "      <th>pixel8</th>\n",
       "      <th>...</th>\n",
       "      <th>pixel774</th>\n",
       "      <th>pixel775</th>\n",
       "      <th>pixel776</th>\n",
       "      <th>pixel777</th>\n",
       "      <th>pixel778</th>\n",
       "      <th>pixel779</th>\n",
       "      <th>pixel780</th>\n",
       "      <th>pixel781</th>\n",
       "      <th>pixel782</th>\n",
       "      <th>pixel783</th>\n",
       "    </tr>\n",
       "  </thead>\n",
       "  <tbody>\n",
       "    <tr>\n",
       "      <th>0</th>\n",
       "      <td>1</td>\n",
       "      <td>0</td>\n",
       "      <td>0</td>\n",
       "      <td>0</td>\n",
       "      <td>0</td>\n",
       "      <td>0</td>\n",
       "      <td>0</td>\n",
       "      <td>0</td>\n",
       "      <td>0</td>\n",
       "      <td>0</td>\n",
       "      <td>...</td>\n",
       "      <td>0</td>\n",
       "      <td>0</td>\n",
       "      <td>0</td>\n",
       "      <td>0</td>\n",
       "      <td>0</td>\n",
       "      <td>0</td>\n",
       "      <td>0</td>\n",
       "      <td>0</td>\n",
       "      <td>0</td>\n",
       "      <td>0</td>\n",
       "    </tr>\n",
       "    <tr>\n",
       "      <th>1</th>\n",
       "      <td>0</td>\n",
       "      <td>0</td>\n",
       "      <td>0</td>\n",
       "      <td>0</td>\n",
       "      <td>0</td>\n",
       "      <td>0</td>\n",
       "      <td>0</td>\n",
       "      <td>0</td>\n",
       "      <td>0</td>\n",
       "      <td>0</td>\n",
       "      <td>...</td>\n",
       "      <td>0</td>\n",
       "      <td>0</td>\n",
       "      <td>0</td>\n",
       "      <td>0</td>\n",
       "      <td>0</td>\n",
       "      <td>0</td>\n",
       "      <td>0</td>\n",
       "      <td>0</td>\n",
       "      <td>0</td>\n",
       "      <td>0</td>\n",
       "    </tr>\n",
       "    <tr>\n",
       "      <th>2</th>\n",
       "      <td>1</td>\n",
       "      <td>0</td>\n",
       "      <td>0</td>\n",
       "      <td>0</td>\n",
       "      <td>0</td>\n",
       "      <td>0</td>\n",
       "      <td>0</td>\n",
       "      <td>0</td>\n",
       "      <td>0</td>\n",
       "      <td>0</td>\n",
       "      <td>...</td>\n",
       "      <td>0</td>\n",
       "      <td>0</td>\n",
       "      <td>0</td>\n",
       "      <td>0</td>\n",
       "      <td>0</td>\n",
       "      <td>0</td>\n",
       "      <td>0</td>\n",
       "      <td>0</td>\n",
       "      <td>0</td>\n",
       "      <td>0</td>\n",
       "    </tr>\n",
       "    <tr>\n",
       "      <th>3</th>\n",
       "      <td>4</td>\n",
       "      <td>0</td>\n",
       "      <td>0</td>\n",
       "      <td>0</td>\n",
       "      <td>0</td>\n",
       "      <td>0</td>\n",
       "      <td>0</td>\n",
       "      <td>0</td>\n",
       "      <td>0</td>\n",
       "      <td>0</td>\n",
       "      <td>...</td>\n",
       "      <td>0</td>\n",
       "      <td>0</td>\n",
       "      <td>0</td>\n",
       "      <td>0</td>\n",
       "      <td>0</td>\n",
       "      <td>0</td>\n",
       "      <td>0</td>\n",
       "      <td>0</td>\n",
       "      <td>0</td>\n",
       "      <td>0</td>\n",
       "    </tr>\n",
       "    <tr>\n",
       "      <th>4</th>\n",
       "      <td>0</td>\n",
       "      <td>0</td>\n",
       "      <td>0</td>\n",
       "      <td>0</td>\n",
       "      <td>0</td>\n",
       "      <td>0</td>\n",
       "      <td>0</td>\n",
       "      <td>0</td>\n",
       "      <td>0</td>\n",
       "      <td>0</td>\n",
       "      <td>...</td>\n",
       "      <td>0</td>\n",
       "      <td>0</td>\n",
       "      <td>0</td>\n",
       "      <td>0</td>\n",
       "      <td>0</td>\n",
       "      <td>0</td>\n",
       "      <td>0</td>\n",
       "      <td>0</td>\n",
       "      <td>0</td>\n",
       "      <td>0</td>\n",
       "    </tr>\n",
       "  </tbody>\n",
       "</table>\n",
       "<p>5 rows × 785 columns</p>\n",
       "</div>"
      ],
      "text/plain": [
       "   label  pixel0  pixel1  pixel2  pixel3  pixel4  pixel5  pixel6  pixel7  \\\n",
       "0      1       0       0       0       0       0       0       0       0   \n",
       "1      0       0       0       0       0       0       0       0       0   \n",
       "2      1       0       0       0       0       0       0       0       0   \n",
       "3      4       0       0       0       0       0       0       0       0   \n",
       "4      0       0       0       0       0       0       0       0       0   \n",
       "\n",
       "   pixel8  ...  pixel774  pixel775  pixel776  pixel777  pixel778  pixel779  \\\n",
       "0       0  ...         0         0         0         0         0         0   \n",
       "1       0  ...         0         0         0         0         0         0   \n",
       "2       0  ...         0         0         0         0         0         0   \n",
       "3       0  ...         0         0         0         0         0         0   \n",
       "4       0  ...         0         0         0         0         0         0   \n",
       "\n",
       "   pixel780  pixel781  pixel782  pixel783  \n",
       "0         0         0         0         0  \n",
       "1         0         0         0         0  \n",
       "2         0         0         0         0  \n",
       "3         0         0         0         0  \n",
       "4         0         0         0         0  \n",
       "\n",
       "[5 rows x 785 columns]"
      ]
     },
     "execution_count": 4,
     "metadata": {},
     "output_type": "execute_result"
    }
   ],
   "source": [
    "df.head(5)"
   ]
  },
  {
   "cell_type": "code",
   "execution_count": 5,
   "id": "626af56f-e8e6-4db7-8281-5ed54c4bab09",
   "metadata": {},
   "outputs": [],
   "source": [
    "data = np.array(df)\n",
    "m, n = data.shape\n",
    "np.random.shuffle(data) # shuffle before splitting into abc and training sets\n",
    "\n",
    "data_abc = data[0:1000].T\n",
    "Y_abc = data_abc[0]\n",
    "X_abc = data_abc[1:n]\n",
    "X_abc = X_abc / 255.\n",
    "\n",
    "data_train = data[1000:m].T\n",
    "Y_train = data_train[0]\n",
    "X_train = data_train[1:n]\n",
    "X_train = X_train / 255.\n",
    "_,m_train = X_train.shape"
   ]
  },
  {
   "cell_type": "code",
   "execution_count": 6,
   "id": "4db6d246-8190-465a-bf6e-f4fc03307d60",
   "metadata": {},
   "outputs": [
    {
     "data": {
      "text/plain": [
       "array([3, 4, 4, ..., 5, 1, 5], dtype=int64)"
      ]
     },
     "execution_count": 6,
     "metadata": {},
     "output_type": "execute_result"
    }
   ],
   "source": [
    "Y_train"
   ]
  },
  {
   "cell_type": "code",
   "execution_count": 7,
   "id": "19844d34-666b-4a51-b82c-10e6dde529cb",
   "metadata": {},
   "outputs": [],
   "source": [
    "def init_params():\n",
    "    W1 = np.random.rand(10, 784) - 0.5\n",
    "    b1 = np.random.rand(10, 1) - 0.5\n",
    "    \n",
    "    \n",
    "    W2 = np.random.rand(15, 10) - 0.5\n",
    "    b2 = np.random.rand(15, 1) - 0.5\n",
    "    \n",
    "    W3 = np.random.rand(12,15) - 0.5\n",
    "    b3 = np.random.rand(12, 1) - 0.5\n",
    "    \n",
    "    W4 = np.random.rand(10,12) - 0.5\n",
    "    b4 = np.random.rand(10, 1) - 0.5\n",
    "    \n",
    "    return W1, b1, W2, b2, W3, b3, W4, b4\n"
   ]
  },
  {
   "cell_type": "code",
   "execution_count": 8,
   "id": "9ae40631-bdfa-4c2b-b052-b3f655180cc5",
   "metadata": {},
   "outputs": [],
   "source": [
    "def init_params_kaiming():\n",
    "    def kaiming_initializer(n_in):\n",
    "        return np.random.normal(0, np.sqrt(2 / n_in))\n",
    "\n",
    "    W1 = kaiming_initializer(784) * np.random.randn(10, 784)\n",
    "    b1 = np.zeros((10, 1))\n",
    "    \n",
    "    W2 = kaiming_initializer(10) * np.random.randn(15, 10)\n",
    "    b2 = np.zeros((15, 1))\n",
    "    \n",
    "    W3 = kaiming_initializer(15) * np.random.randn(12, 15)\n",
    "    b3 = np.zeros((12, 1))\n",
    "    \n",
    "    W4 = kaiming_initializer(12) * np.random.randn(10, 12)\n",
    "    b4 = np.zeros((10, 1))\n",
    "    \n",
    "    return W1, b1, W2, b2, W3, b3, W4, b4"
   ]
  },
  {
   "cell_type": "code",
   "execution_count": 9,
   "id": "1815171f-a8d2-4830-a6da-36a2ea3b957e",
   "metadata": {},
   "outputs": [],
   "source": [
    "\n",
    "def init_params_xavier():\n",
    "    def xavier_initializer(n_in, n_out):\n",
    "        bound = np.sqrt(6 / (n_in + n_out))\n",
    "        return np.random.uniform(-bound, bound)\n",
    "\n",
    "    W1 = xavier_initializer(784, 10) * np.random.rand(10, 784)\n",
    "    b1 = np.random.rand(10, 1) - 0.5\n",
    "    \n",
    "    W2 = xavier_initializer(10, 15) * np.random.rand(15, 10)\n",
    "    b2 = np.random.rand(15, 1) - 0.5\n",
    "    \n",
    "    W3 = xavier_initializer(15, 12) * np.random.rand(12, 15)\n",
    "    b3 = np.random.rand(12, 1) - 0.5\n",
    "    \n",
    "    W4 = xavier_initializer(12, 10) * np.random.rand(10, 12)\n",
    "    b4 = np.random.rand(10, 1) - 0.5\n",
    "    \n",
    "    return W1, b1, W2, b2, W3, b3, W4, b4\n"
   ]
  },
  {
   "cell_type": "code",
   "execution_count": 10,
   "id": "42e11aaa-2bd5-4120-af67-915ba06d3259",
   "metadata": {},
   "outputs": [],
   "source": [
    "def ReLU(Z):\n",
    "    return np.maximum(Z, 0)\n"
   ]
  },
  {
   "cell_type": "code",
   "execution_count": 11,
   "id": "14cf2b33-6c89-4b09-a765-e78f37f3c84f",
   "metadata": {},
   "outputs": [],
   "source": [
    "def softmax(Z):\n",
    "    A = np.exp(Z) / sum(np.exp(Z))\n",
    "    return A"
   ]
  },
  {
   "cell_type": "code",
   "execution_count": 12,
   "id": "7630d0c5-492d-4db7-b4af-c15d4e74b371",
   "metadata": {},
   "outputs": [],
   "source": [
    "def ReLU_deriv(Z):\n",
    "    return Z > 0\n"
   ]
  },
  {
   "cell_type": "code",
   "execution_count": 13,
   "id": "1f3a5e71-71e5-4278-a80f-1a532da0d9fc",
   "metadata": {},
   "outputs": [],
   "source": [
    "def sigmoid(x):\n",
    "  \n",
    "    return 1 / (1 + np.exp(-x))"
   ]
  },
  {
   "cell_type": "code",
   "execution_count": 14,
   "id": "799ac04f-29e9-4a6b-8234-7d2d1dffbdb4",
   "metadata": {},
   "outputs": [],
   "source": [
    "def tanh(x):\n",
    "   \n",
    "    return np.tanh(x)"
   ]
  },
  {
   "cell_type": "code",
   "execution_count": 15,
   "id": "993e64bd-2c96-4b33-955c-09dc5fd52bff",
   "metadata": {},
   "outputs": [],
   "source": [
    "def sigmoid_derivative(x):\n",
    "    return sigmoid(x) * (1 - sigmoid(x))"
   ]
  },
  {
   "cell_type": "code",
   "execution_count": 16,
   "id": "70e6ca82-cf37-4f51-989a-3b61757c3bc8",
   "metadata": {},
   "outputs": [],
   "source": [
    "def tanh_derivative(x):\n",
    "    return 1 - tanh(x)**2"
   ]
  },
  {
   "cell_type": "code",
   "execution_count": 17,
   "id": "447ad4ab-2935-4a84-bd51-dc954d854510",
   "metadata": {},
   "outputs": [],
   "source": [
    "def forward_prop(W1, b1, W2, b2,W3,b3,W4,b4, X):\n",
    "    Z1 = W1.dot(X) + b1\n",
    "    A1 = ReLU(Z1)\n",
    "    \n",
    "    Z2 = W2.dot(A1) + b2\n",
    "    A2 = sigmoid(Z2)\n",
    "    \n",
    "    Z3 = W3.dot(A2) + b3\n",
    "    A3 = tanh(Z3)\n",
    "    \n",
    "    Z4 = W4.dot(A3) + b4\n",
    "    A4 = softmax(Z4)\n",
    "    return Z1, A1, Z2, A2, Z3,A3,Z4,A4"
   ]
  },
  {
   "cell_type": "code",
   "execution_count": 18,
   "id": "3f5f3cdc-5c05-48a7-93db-77394b9db621",
   "metadata": {},
   "outputs": [],
   "source": [
    "def one_hot(Y):\n",
    "    one_hot_Y = np.zeros((Y.size, Y.max() + 1))\n",
    "    one_hot_Y[np.arange(Y.size), Y] = 1\n",
    "    one_hot_Y = one_hot_Y.T\n",
    "    return one_hot_Y\n"
   ]
  },
  {
   "cell_type": "code",
   "execution_count": 19,
   "id": "162a2ed2-f2c4-471c-bd4d-e6c4aed92afb",
   "metadata": {},
   "outputs": [],
   "source": [
    "def backward_prop(Z1, A1, Z2, A2, Z3, A3, Z4,A4, W1, W2,W3,W4, X, Y):\n",
    "    one_hot_Y = one_hot(Y)\n",
    "    \n",
    "    dZ4 = A4 - one_hot_Y\n",
    "    dW4 = 1 / m * dZ4.dot(A3.T)\n",
    "    db4 = 1 / m * np.sum(dZ4)\n",
    "    \n",
    "    dZ3 = W4.T.dot(dZ4) * tanh_derivative(Z3)\n",
    "    dW3 = 1 / m * dZ3.dot(A2.T)\n",
    "    db3 = 1 / m * np.sum(dZ3)\n",
    "    \n",
    "    dZ2 = W3.T.dot(dZ3) * sigmoid_derivative(Z2)\n",
    "    dW2 = 1 / m * dZ2.dot(A1.T)\n",
    "    db2 = 1 / m * np.sum(dZ2)\n",
    "    \n",
    "    dZ1 = W2.T.dot(dZ2) * ReLU_deriv(Z1)\n",
    "    dW1 = 1 / m * dZ1.dot(X.T)\n",
    "    db1 = 1 / m * np.sum(dZ1)\n",
    "    \n",
    "    \n",
    "    \n",
    "    \n",
    "    return dW1, db1, dW2, db2, dW3, db3, dW4,db4"
   ]
  },
  {
   "cell_type": "code",
   "execution_count": 20,
   "id": "545f4083-8cb3-4477-a920-794bd379045f",
   "metadata": {},
   "outputs": [],
   "source": [
    "\n",
    "def update_params(W1, b1, W2, b2,W3,b3,W4,b4, dW1, db1, dW2, db2,dW3,db3,dW4,db4, alpha):\n",
    "    W1 = W1 - alpha * dW1\n",
    "    b1 = b1 - alpha * db1    \n",
    "    \n",
    "    W2 = W2 - alpha * dW2  \n",
    "    b2 = b2 - alpha * db2 \n",
    "    \n",
    "    W3 = W3 - alpha * dW3\n",
    "    b3 = b3 - alpha * db3    \n",
    "    \n",
    "    W4 = W4 - alpha * dW4  \n",
    "    b4 = b4 - alpha * db4 \n",
    "    \n",
    "    return W1, b1, W2, b2, W3, b3, W4, b4"
   ]
  },
  {
   "cell_type": "code",
   "execution_count": 21,
   "id": "540d24e3-efb9-42b2-8d2a-06e1d2d0e665",
   "metadata": {},
   "outputs": [],
   "source": [
    "def get_predictions(A2):\n",
    "    return np.argmax(A2, 0)\n"
   ]
  },
  {
   "cell_type": "code",
   "execution_count": 22,
   "id": "556799e6-9426-4210-b00f-838ad848a683",
   "metadata": {},
   "outputs": [],
   "source": [
    "def get_accuracy(predictions, Y):\n",
    "    #print(predictions, Y)\n",
    "    return np.sum(predictions == Y) / Y.size"
   ]
  },
  {
   "cell_type": "markdown",
   "id": "48933e10-d9ce-486c-a31b-531d32e13818",
   "metadata": {},
   "source": []
  },
  {
   "cell_type": "code",
   "execution_count": 23,
   "id": "f5560f40-3a5b-44a7-b839-aa1ae4412a50",
   "metadata": {},
   "outputs": [],
   "source": [
    "\n",
    "#xavier initilization\n",
    "def gradient_descent(X, Y, alpha, iterations):\n",
    "    W1, b1, W2, b2, W3, b3, W4, b4 = init_params_xavier()\n",
    "    accuracy_scores = []  # To store accuracy scores at different iterations\n",
    "    for i in range(iterations):\n",
    "        Z1, A1, Z2, A2, Z3, A3, Z4, A4 = forward_prop(W1, b1, W2, b2,W3,b3,W4,b4, X)\n",
    "        dW1, db1, dW2, db2, dW3, db3, dW4,db4 = backward_prop(Z1, A1, Z2, A2, Z3, A3, Z4,A4, W1, W2,W3,W4, X, Y)\n",
    "        W1, b1, W2, b2, W3, b3, W4, b4 = update_params(W1, b1, W2, b2,W3,b3,W4,b4, dW1, db1, dW2, db2,dW3,db3,dW4,db4, alpha)\n",
    "        if i % 10 == 0:\n",
    "            print(\"Iteration: \", i)\n",
    "            predictions = get_predictions(A4)\n",
    "            accuracy = get_accuracy(predictions, Y)\n",
    "            print(accuracy)\n",
    "            accuracy_scores.append((i, accuracy))\n",
    "    # Convert accuracy_scores to separate lists for plotting\n",
    "    iterations, accuracies = zip(*accuracy_scores)\n",
    "    \n",
    "    # Plotting accuracy vs iterations\n",
    "    plt.plot(iterations, accuracies)\n",
    "    plt.xlabel('Iterations')\n",
    "    plt.ylabel('Accuracy')\n",
    "    plt.title('Accuracy vs Iterations')\n",
    "    legend_handles = [\n",
    "        plt.Line2D([], [], marker='o', color='w', label='THA076BEI009\\nTHA076BEI036', markersize=10, markerfacecolor='black', alpha=0)\n",
    "    ]\n",
    "    plt.legend(handles=legend_handles, loc='upper center', bbox_to_anchor=(0.84, 1.12))  # Adjust the bbox_to_anchor values\n",
    "\n",
    "    plt.show()\n",
    "    \n",
    "    return W1, b1, W2, b2, W3,b3,W4,b4"
   ]
  },
  {
   "cell_type": "code",
   "execution_count": 24,
   "id": "c0b75aab-98fb-4b60-a35e-fc94a4b2be71",
   "metadata": {},
   "outputs": [
    {
     "name": "stdout",
     "output_type": "stream",
     "text": [
      "Iteration:  0\n",
      "0.09034146341463414\n",
      "Iteration:  10\n",
      "0.09034146341463414\n",
      "Iteration:  20\n",
      "0.09034146341463414\n",
      "Iteration:  30\n",
      "0.09034146341463414\n",
      "Iteration:  40\n",
      "0.09034146341463414\n",
      "Iteration:  50\n",
      "0.09851219512195122\n",
      "Iteration:  60\n",
      "0.11146341463414634\n",
      "Iteration:  70\n",
      "0.11146341463414634\n",
      "Iteration:  80\n",
      "0.11146341463414634\n",
      "Iteration:  90\n",
      "0.11146341463414634\n",
      "Iteration:  100\n",
      "0.11146341463414634\n",
      "Iteration:  110\n",
      "0.11146341463414634\n",
      "Iteration:  120\n",
      "0.11146341463414634\n",
      "Iteration:  130\n",
      "0.11146341463414634\n",
      "Iteration:  140\n",
      "0.11146341463414634\n",
      "Iteration:  150\n",
      "0.11146341463414634\n",
      "Iteration:  160\n",
      "0.11146341463414634\n",
      "Iteration:  170\n",
      "0.11146341463414634\n",
      "Iteration:  180\n",
      "0.11146341463414634\n",
      "Iteration:  190\n",
      "0.11146341463414634\n",
      "Iteration:  200\n",
      "0.11146341463414634\n",
      "Iteration:  210\n",
      "0.11146341463414634\n",
      "Iteration:  220\n",
      "0.11146341463414634\n",
      "Iteration:  230\n",
      "0.11146341463414634\n",
      "Iteration:  240\n",
      "0.11146341463414634\n",
      "Iteration:  250\n",
      "0.11146341463414634\n",
      "Iteration:  260\n",
      "0.11146341463414634\n",
      "Iteration:  270\n",
      "0.11146341463414634\n",
      "Iteration:  280\n",
      "0.11146341463414634\n",
      "Iteration:  290\n",
      "0.11146341463414634\n",
      "Iteration:  300\n",
      "0.11146341463414634\n",
      "Iteration:  310\n",
      "0.11146341463414634\n",
      "Iteration:  320\n",
      "0.11146341463414634\n",
      "Iteration:  330\n",
      "0.11146341463414634\n",
      "Iteration:  340\n",
      "0.11146341463414634\n",
      "Iteration:  350\n",
      "0.11146341463414634\n",
      "Iteration:  360\n",
      "0.11146341463414634\n",
      "Iteration:  370\n",
      "0.11146341463414634\n",
      "Iteration:  380\n",
      "0.11146341463414634\n",
      "Iteration:  390\n",
      "0.11146341463414634\n",
      "Iteration:  400\n",
      "0.11146341463414634\n",
      "Iteration:  410\n",
      "0.11146341463414634\n",
      "Iteration:  420\n",
      "0.11146341463414634\n",
      "Iteration:  430\n",
      "0.11146341463414634\n",
      "Iteration:  440\n",
      "0.11146341463414634\n",
      "Iteration:  450\n",
      "0.11146341463414634\n",
      "Iteration:  460\n",
      "0.11146341463414634\n",
      "Iteration:  470\n",
      "0.11146341463414634\n",
      "Iteration:  480\n",
      "0.11146341463414634\n",
      "Iteration:  490\n",
      "0.11146341463414634\n",
      "Iteration:  500\n",
      "0.11146341463414634\n",
      "Iteration:  510\n",
      "0.11146341463414634\n",
      "Iteration:  520\n",
      "0.11146341463414634\n",
      "Iteration:  530\n",
      "0.11146341463414634\n",
      "Iteration:  540\n",
      "0.11146341463414634\n",
      "Iteration:  550\n",
      "0.11146341463414634\n",
      "Iteration:  560\n",
      "0.11146341463414634\n",
      "Iteration:  570\n",
      "0.11146341463414634\n",
      "Iteration:  580\n",
      "0.11146341463414634\n",
      "Iteration:  590\n",
      "0.11146341463414634\n",
      "Iteration:  600\n",
      "0.11146341463414634\n",
      "Iteration:  610\n",
      "0.11146341463414634\n",
      "Iteration:  620\n",
      "0.11146341463414634\n",
      "Iteration:  630\n",
      "0.11146341463414634\n",
      "Iteration:  640\n",
      "0.11146341463414634\n",
      "Iteration:  650\n",
      "0.11146341463414634\n",
      "Iteration:  660\n",
      "0.11146341463414634\n",
      "Iteration:  670\n",
      "0.11146341463414634\n",
      "Iteration:  680\n",
      "0.11146341463414634\n",
      "Iteration:  690\n",
      "0.11146341463414634\n",
      "Iteration:  700\n",
      "0.11146341463414634\n",
      "Iteration:  710\n",
      "0.11146341463414634\n",
      "Iteration:  720\n",
      "0.11146341463414634\n",
      "Iteration:  730\n",
      "0.11146341463414634\n",
      "Iteration:  740\n",
      "0.11146341463414634\n",
      "Iteration:  750\n",
      "0.11146341463414634\n",
      "Iteration:  760\n",
      "0.11146341463414634\n",
      "Iteration:  770\n",
      "0.11146341463414634\n",
      "Iteration:  780\n",
      "0.11146341463414634\n",
      "Iteration:  790\n",
      "0.11146341463414634\n"
     ]
    },
    {
     "data": {
      "image/png": "[encoded data removed]",
      "text/plain": [
       "<Figure size 640x480 with 1 Axes>"
      ]
     },
     "metadata": {},
     "output_type": "display_data"
    }
   ],
   "source": [
    "W1, b1, W2, b2, W3,b3,W4,b4 = gradient_descent(X_train, Y_train, 0.10, 800)"
   ]
  },
  {
   "cell_type": "code",
   "execution_count": 25,
   "id": "ccd6cbff-370e-48b8-8fd5-10da6ff0d621",
   "metadata": {},
   "outputs": [],
   "source": [
    "def make_predictions(X, W1, b1, W2, b2,W3,b3,W4,b4):\n",
    "    Z1, A1, Z2, A2, Z3,A3,Z4,A4 = forward_prop(W1, b1, W2, b2,W3,b3,W4,b4, X)\n",
    "    predictions = get_predictions(A4)\n",
    "    return predictions\n",
    "\n",
    "def test_prediction(index, W1, b1, W2, b2,W3,b3,W4,b4):\n",
    "    current_image = X_train[:, index, None]\n",
    "    prediction = make_predictions(X_train[:, index, None], W1, b1, W2, b2,W3,b3,W4,b4)\n",
    "    label = Y_train[index]\n",
    "    print(\"Prediction: \", prediction)\n",
    "    print(\"Label: \", label)\n",
    "    legend_handles = [\n",
    "        plt.Line2D([], [], marker='o', color='w', label='THA076BEI009\\nTHA076BEI036', markersize=10, markerfacecolor='black', alpha=0)\n",
    "    ]\n",
    "    plt.legend(handles=legend_handles, loc='upper center', bbox_to_anchor=(0.84, 1.12))  # Adjust the bbox_to_anchor values\n",
    "\n",
    "    current_image = current_image.reshape((28, 28)) * 255\n",
    "    plt.gray()\n",
    "    plt.imshow(current_image, interpolation='nearest')\n",
    "    plt.show()"
   ]
  },
  {
   "cell_type": "code",
   "execution_count": 26,
   "id": "ff4abf4e-72c9-4d1d-811e-52321bd937a2",
   "metadata": {},
   "outputs": [
    {
     "name": "stdout",
     "output_type": "stream",
     "text": [
      "Prediction:  [1]\n",
      "Label:  3\n"
     ]
    },
    {
     "data": {
      "image/png": "[encoded data removed]",
      "text/plain": [
       "<Figure size 640x480 with 1 Axes>"
      ]
     },
     "metadata": {},
     "output_type": "display_data"
    }
   ],
   "source": [
    "test_prediction(0, W1, b1, W2, b2,W3,b3,W4,b4)\n",
    "\n",
    "\n"
   ]
  },
  {
   "cell_type": "code",
   "execution_count": 27,
   "id": "6c506a38",
   "metadata": {
    "scrolled": false
   },
   "outputs": [
    {
     "name": "stdout",
     "output_type": "stream",
     "text": [
      "Prediction:  [1]\n",
      "Label:  4\n"
     ]
    },
    {
     "data": {
      "image/png": "[encoded data removed]",
      "text/plain": [
       "<Figure size 640x480 with 1 Axes>"
      ]
     },
     "metadata": {},
     "output_type": "display_data"
    }
   ],
   "source": [
    "test_prediction(1, W1, b1, W2, b2,W3,b3,W4,b4)"
   ]
  },
  {
   "cell_type": "code",
   "execution_count": 28,
   "id": "fe08ab9b",
   "metadata": {
    "scrolled": false
   },
   "outputs": [
    {
     "name": "stdout",
     "output_type": "stream",
     "text": [
      "Prediction:  [1]\n",
      "Label:  4\n"
     ]
    },
    {
     "data": {
      "image/png": "[encoded data removed]",
      "text/plain": [
       "<Figure size 640x480 with 1 Axes>"
      ]
     },
     "metadata": {},
     "output_type": "display_data"
    }
   ],
   "source": [
    "test_prediction(2, W1, b1, W2, b2,W3,b3,W4,b4)"
   ]
  },
  {
   "cell_type": "code",
   "execution_count": 29,
   "id": "70181d2b",
   "metadata": {},
   "outputs": [
    {
     "name": "stdout",
     "output_type": "stream",
     "text": [
      "Prediction:  [1]\n",
      "Label:  2\n"
     ]
    },
    {
     "data": {
      "image/png": "[encoded data removed]",
      "text/plain": [
       "<Figure size 640x480 with 1 Axes>"
      ]
     },
     "metadata": {},
     "output_type": "display_data"
    }
   ],
   "source": [
    "test_prediction(3, W1, b1, W2, b2,W3,b3,W4,b4)"
   ]
  },
  {
   "cell_type": "code",
   "execution_count": null,
   "id": "9f4d7e1c",
   "metadata": {},
   "outputs": [],
   "source": []
  },
  {
   "cell_type": "code",
   "execution_count": 30,
   "id": "a6b718e5-e7ee-40b3-a9aa-54537eb962dd",
   "metadata": {},
   "outputs": [
    {
     "data": {
      "text/plain": [
       "0.114"
      ]
     },
     "execution_count": 30,
     "metadata": {},
     "output_type": "execute_result"
    }
   ],
   "source": [
    "abc_predictions = make_predictions(X_abc, W1, b1, W2, b2, W3, b3, W4, b4)\n",
    "get_accuracy(abc_predictions, Y_abc)"
   ]
  },
  {
   "cell_type": "code",
   "execution_count": 31,
   "id": "28773827",
   "metadata": {},
   "outputs": [
    {
     "name": "stdout",
     "output_type": "stream",
     "text": [
      "Classification Report:\n",
      "               precision    recall  f1-score   support\n",
      "\n",
      "           0     0.0000    0.0000    0.0000         0\n",
      "           1     1.0000    0.1140    0.2047      1000\n",
      "           2     0.0000    0.0000    0.0000         0\n",
      "           3     0.0000    0.0000    0.0000         0\n",
      "           4     0.0000    0.0000    0.0000         0\n",
      "           5     0.0000    0.0000    0.0000         0\n",
      "           6     0.0000    0.0000    0.0000         0\n",
      "           7     0.0000    0.0000    0.0000         0\n",
      "           8     0.0000    0.0000    0.0000         0\n",
      "           9     0.0000    0.0000    0.0000         0\n",
      "\n",
      "    accuracy                         0.1140      1000\n",
      "   macro avg     0.1000    0.0114    0.0205      1000\n",
      "weighted avg     1.0000    0.1140    0.2047      1000\n",
      "\n"
     ]
    },
    {
     "name": "stderr",
     "output_type": "stream",
     "text": [
      "C:\\Users\\DELL\\anaconda3\\lib\\site-packages\\sklearn\\metrics\\_classification.py:1318: UndefinedMetricWarning: Recall and F-score are ill-defined and being set to 0.0 in labels with no true samples. Use `zero_division` parameter to control this behavior.\n",
      "  _warn_prf(average, modifier, msg_start, len(result))\n",
      "C:\\Users\\DELL\\anaconda3\\lib\\site-packages\\sklearn\\metrics\\_classification.py:1318: UndefinedMetricWarning: Recall and F-score are ill-defined and being set to 0.0 in labels with no true samples. Use `zero_division` parameter to control this behavior.\n",
      "  _warn_prf(average, modifier, msg_start, len(result))\n",
      "C:\\Users\\DELL\\anaconda3\\lib\\site-packages\\sklearn\\metrics\\_classification.py:1318: UndefinedMetricWarning: Recall and F-score are ill-defined and being set to 0.0 in labels with no true samples. Use `zero_division` parameter to control this behavior.\n",
      "  _warn_prf(average, modifier, msg_start, len(result))\n"
     ]
    }
   ],
   "source": [
    "from sklearn.metrics import classification_report\n",
    "\n",
    "abc_predictions = make_predictions(X_abc, W1, b1, W2, b2, W3, b3, W4, b4)\n",
    "report = classification_report(abc_predictions,Y_abc, digits=4)\n",
    "\n",
    "print(\"Classification Report:\\n\", report)\n"
   ]
  },
  {
   "cell_type": "code",
   "execution_count": 32,
   "id": "9f167827-11fc-47aa-8a2b-4230a67d880f",
   "metadata": {
    "tags": []
   },
   "outputs": [],
   "source": [
    "#KAIMING INITIALIZAION\n",
    "def gradient_descent(X, Y, alpha, iterations):\n",
    "    W1, b1, W2, b2, W3, b3, W4, b4 = init_params_kaiming()\n",
    "    accuracy_scores = []\n",
    "    for i in range(iterations):\n",
    "        Z1, A1, Z2, A2, Z3, A3, Z4, A4 = forward_prop(W1, b1, W2, b2,W3,b3,W4,b4, X)\n",
    "        dW1, db1, dW2, db2, dW3, db3, dW4,db4 = backward_prop(Z1, A1, Z2, A2, Z3, A3, Z4,A4, W1, W2,W3,W4, X, Y)\n",
    "        W1, b1, W2, b2, W3, b3, W4, b4 = update_params(W1, b1, W2, b2,W3,b3,W4,b4, dW1, db1, dW2, db2,dW3,db3,dW4,db4, alpha)\n",
    "        if i % 10 == 0:\n",
    "            print(\"Iteration: \", i)\n",
    "            predictions = get_predictions(A4)\n",
    "            accuracy = get_accuracy(predictions, Y)\n",
    "            print(accuracy)\n",
    "            accuracy_scores.append((i, accuracy))\n",
    "    \n",
    "    # Convert accuracy_scores to separate lists for plotting\n",
    "    iterations, accuracies = zip(*accuracy_scores)\n",
    "    legend_handles = [\n",
    "        plt.Line2D([], [], marker='o', color='w', label='THA076BEI009\\nTHA076BEI036', markersize=10, markerfacecolor='black', alpha=0)\n",
    "    ]\n",
    "    plt.legend(handles=legend_handles, loc='upper center', bbox_to_anchor=(0.84, 1.12))  # Adjust the bbox_to_anchor values\n",
    "\n",
    "    # Plotting accuracy vs iterations\n",
    "    plt.plot(iterations, accuracies)\n",
    "    plt.xlabel('Iterations')\n",
    "    plt.ylabel('Accuracy')\n",
    "    plt.title('Accuracy vs Iterations')\n",
    "    plt.show()\n",
    "    \n",
    "    return W1, b1, W2, b2, W3,b3,W4,b4"
   ]
  },
  {
   "cell_type": "code",
   "execution_count": 33,
   "id": "df8d553f-8f61-44be-87d8-0014970ba567",
   "metadata": {
    "tags": []
   },
   "outputs": [
    {
     "name": "stdout",
     "output_type": "stream",
     "text": [
      "Iteration:  0\n",
      "0.09073170731707317\n",
      "Iteration:  10\n",
      "0.23829268292682926\n",
      "Iteration:  20\n",
      "0.4553170731707317\n",
      "Iteration:  30\n",
      "0.49841463414634146\n",
      "Iteration:  40\n",
      "0.5240487804878049\n",
      "Iteration:  50\n",
      "0.5505365853658537\n",
      "Iteration:  60\n",
      "0.5770975609756097\n",
      "Iteration:  70\n",
      "0.6019268292682927\n",
      "Iteration:  80\n",
      "0.6261951219512195\n",
      "Iteration:  90\n",
      "0.6491463414634147\n",
      "Iteration:  100\n",
      "0.6699756097560976\n",
      "Iteration:  110\n",
      "0.6911951219512195\n",
      "Iteration:  120\n",
      "0.7121951219512195\n",
      "Iteration:  130\n",
      "0.7322439024390244\n",
      "Iteration:  140\n",
      "0.7504390243902439\n",
      "Iteration:  150\n",
      "0.7684390243902439\n",
      "Iteration:  160\n",
      "0.7837560975609756\n",
      "Iteration:  170\n",
      "0.7951707317073171\n",
      "Iteration:  180\n",
      "0.8057804878048781\n",
      "Iteration:  190\n",
      "0.8138536585365853\n",
      "Iteration:  200\n",
      "0.8210975609756097\n",
      "Iteration:  210\n",
      "0.8274146341463414\n",
      "Iteration:  220\n",
      "0.8333170731707317\n",
      "Iteration:  230\n",
      "0.8383658536585366\n",
      "Iteration:  240\n",
      "0.8426585365853658\n",
      "Iteration:  250\n",
      "0.8465853658536585\n",
      "Iteration:  260\n",
      "0.8500731707317073\n",
      "Iteration:  270\n",
      "0.8530731707317073\n",
      "Iteration:  280\n",
      "0.8560243902439024\n",
      "Iteration:  290\n",
      "0.8584146341463414\n",
      "Iteration:  300\n",
      "0.8608048780487805\n",
      "Iteration:  310\n",
      "0.8630487804878049\n",
      "Iteration:  320\n",
      "0.8654878048780488\n",
      "Iteration:  330\n",
      "0.8675853658536585\n",
      "Iteration:  340\n",
      "0.869390243902439\n",
      "Iteration:  350\n",
      "0.871\n",
      "Iteration:  360\n",
      "0.873\n",
      "Iteration:  370\n",
      "0.874780487804878\n",
      "Iteration:  380\n",
      "0.8765853658536585\n",
      "Iteration:  390\n",
      "0.8779024390243902\n",
      "Iteration:  400\n",
      "0.8794634146341463\n",
      "Iteration:  410\n",
      "0.8806585365853659\n",
      "Iteration:  420\n",
      "0.8821707317073171\n",
      "Iteration:  430\n",
      "0.8832439024390244\n",
      "Iteration:  440\n",
      "0.8844146341463415\n",
      "Iteration:  450\n",
      "0.8854878048780488\n",
      "Iteration:  460\n",
      "0.8865853658536585\n",
      "Iteration:  470\n",
      "0.8876829268292683\n",
      "Iteration:  480\n",
      "0.8889512195121951\n",
      "Iteration:  490\n",
      "0.8899512195121951\n",
      "Iteration:  500\n",
      "0.8908536585365854\n",
      "Iteration:  510\n",
      "0.8915853658536586\n",
      "Iteration:  520\n",
      "0.8926829268292683\n",
      "Iteration:  530\n",
      "0.8932439024390244\n",
      "Iteration:  540\n",
      "0.894219512195122\n",
      "Iteration:  550\n",
      "0.8947560975609756\n",
      "Iteration:  560\n",
      "0.8954634146341464\n",
      "Iteration:  570\n",
      "0.8961951219512195\n",
      "Iteration:  580\n",
      "0.8973658536585366\n",
      "Iteration:  590\n",
      "0.8980975609756098\n",
      "Iteration:  600\n",
      "0.8987317073170732\n",
      "Iteration:  610\n",
      "0.8994146341463415\n",
      "Iteration:  620\n",
      "0.9000731707317073\n",
      "Iteration:  630\n",
      "0.9005853658536586\n",
      "Iteration:  640\n",
      "0.9011463414634147\n",
      "Iteration:  650\n",
      "0.9017317073170732\n",
      "Iteration:  660\n",
      "0.9020731707317073\n",
      "Iteration:  670\n",
      "0.9026585365853659\n",
      "Iteration:  680\n",
      "0.9031219512195122\n",
      "Iteration:  690\n",
      "0.9035853658536586\n",
      "Iteration:  700\n",
      "0.9040243902439025\n",
      "Iteration:  710\n",
      "0.9047804878048781\n",
      "Iteration:  720\n",
      "0.9051463414634147\n",
      "Iteration:  730\n",
      "0.9057073170731708\n",
      "Iteration:  740\n",
      "0.9062439024390244\n",
      "Iteration:  750\n",
      "0.9068780487804878\n",
      "Iteration:  760\n",
      "0.9073658536585366\n",
      "Iteration:  770\n",
      "0.9077560975609756\n",
      "Iteration:  780\n",
      "0.9082682926829269\n",
      "Iteration:  790\n",
      "0.9085365853658537\n"
     ]
    },
    {
     "data": {
      "image/png": "[encoded data removed]",
      "text/plain": [
       "<Figure size 640x480 with 1 Axes>"
      ]
     },
     "metadata": {},
     "output_type": "display_data"
    }
   ],
   "source": [
    "W1, b1, W2, b2, W3,b3,W4,b4 = gradient_descent(X_train, Y_train, 0.10, 800)"
   ]
  },
  {
   "cell_type": "code",
   "execution_count": 34,
   "id": "f421387b-11f7-4fd7-8c22-a25212a6109b",
   "metadata": {
    "scrolled": false,
    "tags": []
   },
   "outputs": [
    {
     "name": "stdout",
     "output_type": "stream",
     "text": [
      "Prediction:  [3]\n",
      "Label:  3\n"
     ]
    },
    {
     "data": {
      "image/png": "[encoded data removed]",
      "text/plain": [
       "<Figure size 640x480 with 1 Axes>"
      ]
     },
     "metadata": {},
     "output_type": "display_data"
    },
    {
     "name": "stdout",
     "output_type": "stream",
     "text": [
      "Prediction:  [6]\n",
      "Label:  4\n"
     ]
    },
    {
     "data": {
      "image/png": "[encoded data removed]",
      "text/plain": [
       "<Figure size 640x480 with 1 Axes>"
      ]
     },
     "metadata": {},
     "output_type": "display_data"
    },
    {
     "name": "stdout",
     "output_type": "stream",
     "text": [
      "Prediction:  [9]\n",
      "Label:  4\n"
     ]
    },
    {
     "data": {
      "image/png": "[encoded data removed]",
      "text/plain": [
       "<Figure size 640x480 with 1 Axes>"
      ]
     },
     "metadata": {},
     "output_type": "display_data"
    },
    {
     "name": "stdout",
     "output_type": "stream",
     "text": [
      "Prediction:  [1]\n",
      "Label:  2\n"
     ]
    },
    {
     "data": {
      "image/png": "[encoded data removed]",
      "text/plain": [
       "<Figure size 640x480 with 1 Axes>"
      ]
     },
     "metadata": {},
     "output_type": "display_data"
    }
   ],
   "source": [
    "test_prediction(0, W1, b1, W2, b2,W3,b3,W4,b4)\n",
    "test_prediction(1, W1, b1, W2, b2,W3,b3,W4,b4)\n",
    "test_prediction(2, W1, b1, W2, b2,W3,b3,W4,b4)\n",
    "test_prediction(3, W1, b1, W2, b2,W3,b3,W4,b4)"
   ]
  },
  {
   "cell_type": "code",
   "execution_count": 35,
   "id": "f7e57ae0-b990-4280-a3e3-7cb64beed67a",
   "metadata": {},
   "outputs": [
    {
     "data": {
      "text/plain": [
       "0.903"
      ]
     },
     "execution_count": 35,
     "metadata": {},
     "output_type": "execute_result"
    }
   ],
   "source": [
    "abc_predictions = make_predictions(X_abc, W1, b1, W2, b2, W3, b3, W4, b4)\n",
    "get_accuracy(abc_predictions, Y_abc)"
   ]
  },
  {
   "cell_type": "code",
   "execution_count": 36,
   "id": "b96dd241-eb46-41a0-ac3d-67e9ca9a6327",
   "metadata": {},
   "outputs": [
    {
     "name": "stdout",
     "output_type": "stream",
     "text": [
      "Classification Report:\n",
      "               precision    recall  f1-score   support\n",
      "\n",
      "           0     0.9892    0.9485    0.9684        97\n",
      "           1     0.9737    0.9737    0.9737       114\n",
      "           2     0.9439    0.9266    0.9352       109\n",
      "           3     0.9143    0.8727    0.8930       110\n",
      "           4     0.9247    0.8866    0.9053        97\n",
      "           5     0.8242    0.9146    0.8671        82\n",
      "           6     0.9247    0.8958    0.9101        96\n",
      "           7     0.8600    0.8350    0.8473       103\n",
      "           8     0.8700    0.8969    0.8832        97\n",
      "           9     0.7981    0.8737    0.8342        95\n",
      "\n",
      "    accuracy                         0.9030      1000\n",
      "   macro avg     0.9023    0.9024    0.9017      1000\n",
      "weighted avg     0.9053    0.9030    0.9036      1000\n",
      "\n"
     ]
    }
   ],
   "source": [
    "from sklearn.metrics import classification_report\n",
    "\n",
    "abc_predictions = make_predictions(X_abc, W1, b1, W2, b2, W3, b3, W4, b4)\n",
    "report = classification_report(abc_predictions,Y_abc, digits=4)\n",
    "\n",
    "print(\"Classification Report:\\n\", report)\n"
   ]
  },
  {
   "cell_type": "code",
   "execution_count": null,
   "id": "44d5a304",
   "metadata": {},
   "outputs": [],
   "source": []
  },
  {
   "cell_type": "code",
   "execution_count": null,
   "id": "915990a8",
   "metadata": {},
   "outputs": [],
   "source": []
  },
  {
   "cell_type": "code",
   "execution_count": null,
   "id": "4bed3bab",
   "metadata": {},
   "outputs": [],
   "source": []
  },
  {
   "cell_type": "code",
   "execution_count": null,
   "id": "1cb8e8ad",
   "metadata": {},
   "outputs": [],
   "source": []
  },
  {
   "cell_type": "code",
   "execution_count": null,
   "id": "560f62c1",
   "metadata": {},
   "outputs": [],
   "source": []
  },
  {
   "cell_type": "code",
   "execution_count": null,
   "id": "ad9de7b8",
   "metadata": {},
   "outputs": [],
   "source": []
  },
  {
   "cell_type": "code",
   "execution_count": null,
   "id": "b098cf3d",
   "metadata": {},
   "outputs": [],
   "source": []
  },
  {
   "cell_type": "code",
   "execution_count": null,
   "id": "f152e031",
   "metadata": {},
   "outputs": [],
   "source": []
  },
  {
   "cell_type": "code",
   "execution_count": null,
   "id": "fcc9d510",
   "metadata": {},
   "outputs": [],
   "source": []
  },
  {
   "cell_type": "code",
   "execution_count": null,
   "id": "53f81362",
   "metadata": {},
   "outputs": [],
   "source": []
  },
  {
   "cell_type": "code",
   "execution_count": null,
   "id": "af596129",
   "metadata": {},
   "outputs": [],
   "source": []
  },
  {
   "cell_type": "code",
   "execution_count": null,
   "id": "f3c6c429",
   "metadata": {},
   "outputs": [],
   "source": []
  },
  {
   "cell_type": "code",
   "execution_count": null,
   "id": "9beb857c",
   "metadata": {},
   "outputs": [],
   "source": []
  },
  {
   "cell_type": "code",
   "execution_count": null,
   "id": "36625442",
   "metadata": {},
   "outputs": [],
   "source": []
  },
  {
   "cell_type": "code",
   "execution_count": null,
   "id": "1880d7d2",
   "metadata": {},
   "outputs": [],
   "source": []
  },
  {
   "cell_type": "code",
   "execution_count": null,
   "id": "faeb75ad",
   "metadata": {},
   "outputs": [],
   "source": []
  },
  {
   "cell_type": "code",
   "execution_count": null,
   "id": "8440188f",
   "metadata": {},
   "outputs": [],
   "source": []
  },
  {
   "cell_type": "code",
   "execution_count": null,
   "id": "3e43ec1f",
   "metadata": {},
   "outputs": [],
   "source": []
  },
  {
   "cell_type": "code",
   "execution_count": null,
   "id": "94019d51",
   "metadata": {},
   "outputs": [],
   "source": []
  },
  {
   "cell_type": "code",
   "execution_count": null,
   "id": "c186c4b2",
   "metadata": {},
   "outputs": [],
   "source": []
  },
  {
   "cell_type": "code",
   "execution_count": null,
   "id": "0f2f615e",
   "metadata": {},
   "outputs": [],
   "source": []
  },
  {
   "cell_type": "code",
   "execution_count": null,
   "id": "46c281cc",
   "metadata": {},
   "outputs": [],
   "source": []
  },
  {
   "cell_type": "code",
   "execution_count": null,
   "id": "ca76643b",
   "metadata": {},
   "outputs": [],
   "source": []
  },
  {
   "cell_type": "code",
   "execution_count": null,
   "id": "b1126fcf",
   "metadata": {},
   "outputs": [],
   "source": []
  },
  {
   "cell_type": "code",
   "execution_count": null,
   "id": "d50dacf9",
   "metadata": {},
   "outputs": [],
   "source": []
  },
  {
   "cell_type": "code",
   "execution_count": null,
   "id": "edb7b2bf",
   "metadata": {},
   "outputs": [],
   "source": []
  },
  {
   "cell_type": "code",
   "execution_count": null,
   "id": "ff4990ed",
   "metadata": {},
   "outputs": [],
   "source": []
  },
  {
   "cell_type": "code",
   "execution_count": null,
   "id": "999158a7",
   "metadata": {},
   "outputs": [],
   "source": []
  },
  {
   "cell_type": "code",
   "execution_count": null,
   "id": "30f3be07",
   "metadata": {},
   "outputs": [],
   "source": []
  },
  {
   "cell_type": "code",
   "execution_count": null,
   "id": "430b778c",
   "metadata": {},
   "outputs": [],
   "source": []
  },
  {
   "cell_type": "code",
   "execution_count": null,
   "id": "ac5c57f6",
   "metadata": {},
   "outputs": [],
   "source": []
  },
  {
   "cell_type": "code",
   "execution_count": null,
   "id": "82beb174",
   "metadata": {},
   "outputs": [],
   "source": []
  },
  {
   "cell_type": "code",
   "execution_count": null,
   "id": "ea1af445",
   "metadata": {},
   "outputs": [],
   "source": []
  },
  {
   "cell_type": "code",
   "execution_count": null,
   "id": "53bce033",
   "metadata": {},
   "outputs": [],
   "source": []
  },
  {
   "cell_type": "code",
   "execution_count": null,
   "id": "835cc721",
   "metadata": {},
   "outputs": [],
   "source": []
  },
  {
   "cell_type": "code",
   "execution_count": null,
   "id": "dde3bcac",
   "metadata": {},
   "outputs": [],
   "source": []
  },
  {
   "cell_type": "code",
   "execution_count": null,
   "id": "90df810e",
   "metadata": {},
   "outputs": [],
   "source": []
  },
  {
   "cell_type": "code",
   "execution_count": null,
   "id": "84f04515",
   "metadata": {},
   "outputs": [],
   "source": []
  },
  {
   "cell_type": "code",
   "execution_count": null,
   "id": "e12074a8",
   "metadata": {},
   "outputs": [],
   "source": []
  },
  {
   "cell_type": "code",
   "execution_count": null,
   "id": "ec38fec9",
   "metadata": {},
   "outputs": [],
   "source": []
  },
  {
   "cell_type": "code",
   "execution_count": null,
   "id": "c003295f",
   "metadata": {},
   "outputs": [],
   "source": []
  }
 ],
 "metadata": {
  "kernelspec": {
   "display_name": "Python 3 (ipykernel)",
   "language": "python",
   "name": "python3"
  },
  "language_info": {
   "codemirror_mode": {
    "name": "ipython",
    "version": 3
   },
   "file_extension": ".py",
   "mimetype": "text/x-python",
   "name": "python",
   "nbconvert_exporter": "python",
   "pygments_lexer": "ipython3",
   "version": "3.9.13"
  }
 },
 "nbformat": 4,
 "nbformat_minor": 5
}
