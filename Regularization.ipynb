{
 "cells": [
  {
   "cell_type": "code",
   "execution_count": 1,
   "id": "3413fcf2-7032-4db7-96b8-b3a45106a720",
   "metadata": {
    "id": "3413fcf2-7032-4db7-96b8-b3a45106a720",
    "tags": []
   },
   "outputs": [],
   "source": [
    "import pandas as pd\n",
    "import numpy as np\n",
    "import matplotlib.pyplot as plt\n",
    "from sklearn.model_selection import train_test_split\n",
    "from sklearn.metrics import confusion_matrix , classification_report\n",
    "import random"
   ]
  },
  {
   "cell_type": "code",
   "execution_count": 2,
   "id": "620d58b0-c023-419b-8a23-f9942fb5f1e4",
   "metadata": {
    "id": "620d58b0-c023-419b-8a23-f9942fb5f1e4"
   },
   "outputs": [],
   "source": [
    "np.random.seed(52)"
   ]
  },
  {
   "cell_type": "code",
   "execution_count": 3,
   "id": "030cdd93-b7a0-48a2-8b32-a539918eabbb",
   "metadata": {
    "id": "030cdd93-b7a0-48a2-8b32-a539918eabbb",
    "tags": []
   },
   "outputs": [],
   "source": [
    "df = pd.read_csv('digit_data.csv')"
   ]
  },
  {
   "cell_type": "code",
   "execution_count": 4,
   "id": "fc0489c6-d4c5-4107-87d0-e330e127f4e0",
   "metadata": {
    "id": "fc0489c6-d4c5-4107-87d0-e330e127f4e0",
    "outputId": "6cfb554d-f7fb-4acd-b4f5-90a310211bac",
    "tags": []
   },
   "outputs": [
    {
     "data": {
      "text/html": [
       "<div>\n",
       "<style scoped>\n",
       "    .dataframe tbody tr th:only-of-type {\n",
       "        vertical-align: middle;\n",
       "    }\n",
       "\n",
       "    .dataframe tbody tr th {\n",
       "        vertical-align: top;\n",
       "    }\n",
       "\n",
       "    .dataframe thead th {\n",
       "        text-align: right;\n",
       "    }\n",
       "</style>\n",
       "<table border=\"1\" class=\"dataframe\">\n",
       "  <thead>\n",
       "    <tr style=\"text-align: right;\">\n",
       "      <th></th>\n",
       "      <th>label</th>\n",
       "      <th>pixel0</th>\n",
       "      <th>pixel1</th>\n",
       "      <th>pixel2</th>\n",
       "      <th>pixel3</th>\n",
       "      <th>pixel4</th>\n",
       "      <th>pixel5</th>\n",
       "      <th>pixel6</th>\n",
       "      <th>pixel7</th>\n",
       "      <th>pixel8</th>\n",
       "      <th>...</th>\n",
       "      <th>pixel774</th>\n",
       "      <th>pixel775</th>\n",
       "      <th>pixel776</th>\n",
       "      <th>pixel777</th>\n",
       "      <th>pixel778</th>\n",
       "      <th>pixel779</th>\n",
       "      <th>pixel780</th>\n",
       "      <th>pixel781</th>\n",
       "      <th>pixel782</th>\n",
       "      <th>pixel783</th>\n",
       "    </tr>\n",
       "  </thead>\n",
       "  <tbody>\n",
       "    <tr>\n",
       "      <th>0</th>\n",
       "      <td>1</td>\n",
       "      <td>0</td>\n",
       "      <td>0</td>\n",
       "      <td>0</td>\n",
       "      <td>0</td>\n",
       "      <td>0</td>\n",
       "      <td>0</td>\n",
       "      <td>0</td>\n",
       "      <td>0</td>\n",
       "      <td>0</td>\n",
       "      <td>...</td>\n",
       "      <td>0</td>\n",
       "      <td>0</td>\n",
       "      <td>0</td>\n",
       "      <td>0</td>\n",
       "      <td>0</td>\n",
       "      <td>0</td>\n",
       "      <td>0</td>\n",
       "      <td>0</td>\n",
       "      <td>0</td>\n",
       "      <td>0</td>\n",
       "    </tr>\n",
       "    <tr>\n",
       "      <th>1</th>\n",
       "      <td>0</td>\n",
       "      <td>0</td>\n",
       "      <td>0</td>\n",
       "      <td>0</td>\n",
       "      <td>0</td>\n",
       "      <td>0</td>\n",
       "      <td>0</td>\n",
       "      <td>0</td>\n",
       "      <td>0</td>\n",
       "      <td>0</td>\n",
       "      <td>...</td>\n",
       "      <td>0</td>\n",
       "      <td>0</td>\n",
       "      <td>0</td>\n",
       "      <td>0</td>\n",
       "      <td>0</td>\n",
       "      <td>0</td>\n",
       "      <td>0</td>\n",
       "      <td>0</td>\n",
       "      <td>0</td>\n",
       "      <td>0</td>\n",
       "    </tr>\n",
       "    <tr>\n",
       "      <th>2</th>\n",
       "      <td>1</td>\n",
       "      <td>0</td>\n",
       "      <td>0</td>\n",
       "      <td>0</td>\n",
       "      <td>0</td>\n",
       "      <td>0</td>\n",
       "      <td>0</td>\n",
       "      <td>0</td>\n",
       "      <td>0</td>\n",
       "      <td>0</td>\n",
       "      <td>...</td>\n",
       "      <td>0</td>\n",
       "      <td>0</td>\n",
       "      <td>0</td>\n",
       "      <td>0</td>\n",
       "      <td>0</td>\n",
       "      <td>0</td>\n",
       "      <td>0</td>\n",
       "      <td>0</td>\n",
       "      <td>0</td>\n",
       "      <td>0</td>\n",
       "    </tr>\n",
       "    <tr>\n",
       "      <th>3</th>\n",
       "      <td>4</td>\n",
       "      <td>0</td>\n",
       "      <td>0</td>\n",
       "      <td>0</td>\n",
       "      <td>0</td>\n",
       "      <td>0</td>\n",
       "      <td>0</td>\n",
       "      <td>0</td>\n",
       "      <td>0</td>\n",
       "      <td>0</td>\n",
       "      <td>...</td>\n",
       "      <td>0</td>\n",
       "      <td>0</td>\n",
       "      <td>0</td>\n",
       "      <td>0</td>\n",
       "      <td>0</td>\n",
       "      <td>0</td>\n",
       "      <td>0</td>\n",
       "      <td>0</td>\n",
       "      <td>0</td>\n",
       "      <td>0</td>\n",
       "    </tr>\n",
       "    <tr>\n",
       "      <th>4</th>\n",
       "      <td>0</td>\n",
       "      <td>0</td>\n",
       "      <td>0</td>\n",
       "      <td>0</td>\n",
       "      <td>0</td>\n",
       "      <td>0</td>\n",
       "      <td>0</td>\n",
       "      <td>0</td>\n",
       "      <td>0</td>\n",
       "      <td>0</td>\n",
       "      <td>...</td>\n",
       "      <td>0</td>\n",
       "      <td>0</td>\n",
       "      <td>0</td>\n",
       "      <td>0</td>\n",
       "      <td>0</td>\n",
       "      <td>0</td>\n",
       "      <td>0</td>\n",
       "      <td>0</td>\n",
       "      <td>0</td>\n",
       "      <td>0</td>\n",
       "    </tr>\n",
       "    <tr>\n",
       "      <th>...</th>\n",
       "      <td>...</td>\n",
       "      <td>...</td>\n",
       "      <td>...</td>\n",
       "      <td>...</td>\n",
       "      <td>...</td>\n",
       "      <td>...</td>\n",
       "      <td>...</td>\n",
       "      <td>...</td>\n",
       "      <td>...</td>\n",
       "      <td>...</td>\n",
       "      <td>...</td>\n",
       "      <td>...</td>\n",
       "      <td>...</td>\n",
       "      <td>...</td>\n",
       "      <td>...</td>\n",
       "      <td>...</td>\n",
       "      <td>...</td>\n",
       "      <td>...</td>\n",
       "      <td>...</td>\n",
       "      <td>...</td>\n",
       "      <td>...</td>\n",
       "    </tr>\n",
       "    <tr>\n",
       "      <th>41995</th>\n",
       "      <td>0</td>\n",
       "      <td>0</td>\n",
       "      <td>0</td>\n",
       "      <td>0</td>\n",
       "      <td>0</td>\n",
       "      <td>0</td>\n",
       "      <td>0</td>\n",
       "      <td>0</td>\n",
       "      <td>0</td>\n",
       "      <td>0</td>\n",
       "      <td>...</td>\n",
       "      <td>0</td>\n",
       "      <td>0</td>\n",
       "      <td>0</td>\n",
       "      <td>0</td>\n",
       "      <td>0</td>\n",
       "      <td>0</td>\n",
       "      <td>0</td>\n",
       "      <td>0</td>\n",
       "      <td>0</td>\n",
       "      <td>0</td>\n",
       "    </tr>\n",
       "    <tr>\n",
       "      <th>41996</th>\n",
       "      <td>1</td>\n",
       "      <td>0</td>\n",
       "      <td>0</td>\n",
       "      <td>0</td>\n",
       "      <td>0</td>\n",
       "      <td>0</td>\n",
       "      <td>0</td>\n",
       "      <td>0</td>\n",
       "      <td>0</td>\n",
       "      <td>0</td>\n",
       "      <td>...</td>\n",
       "      <td>0</td>\n",
       "      <td>0</td>\n",
       "      <td>0</td>\n",
       "      <td>0</td>\n",
       "      <td>0</td>\n",
       "      <td>0</td>\n",
       "      <td>0</td>\n",
       "      <td>0</td>\n",
       "      <td>0</td>\n",
       "      <td>0</td>\n",
       "    </tr>\n",
       "    <tr>\n",
       "      <th>41997</th>\n",
       "      <td>7</td>\n",
       "      <td>0</td>\n",
       "      <td>0</td>\n",
       "      <td>0</td>\n",
       "      <td>0</td>\n",
       "      <td>0</td>\n",
       "      <td>0</td>\n",
       "      <td>0</td>\n",
       "      <td>0</td>\n",
       "      <td>0</td>\n",
       "      <td>...</td>\n",
       "      <td>0</td>\n",
       "      <td>0</td>\n",
       "      <td>0</td>\n",
       "      <td>0</td>\n",
       "      <td>0</td>\n",
       "      <td>0</td>\n",
       "      <td>0</td>\n",
       "      <td>0</td>\n",
       "      <td>0</td>\n",
       "      <td>0</td>\n",
       "    </tr>\n",
       "    <tr>\n",
       "      <th>41998</th>\n",
       "      <td>6</td>\n",
       "      <td>0</td>\n",
       "      <td>0</td>\n",
       "      <td>0</td>\n",
       "      <td>0</td>\n",
       "      <td>0</td>\n",
       "      <td>0</td>\n",
       "      <td>0</td>\n",
       "      <td>0</td>\n",
       "      <td>0</td>\n",
       "      <td>...</td>\n",
       "      <td>0</td>\n",
       "      <td>0</td>\n",
       "      <td>0</td>\n",
       "      <td>0</td>\n",
       "      <td>0</td>\n",
       "      <td>0</td>\n",
       "      <td>0</td>\n",
       "      <td>0</td>\n",
       "      <td>0</td>\n",
       "      <td>0</td>\n",
       "    </tr>\n",
       "    <tr>\n",
       "      <th>41999</th>\n",
       "      <td>9</td>\n",
       "      <td>0</td>\n",
       "      <td>0</td>\n",
       "      <td>0</td>\n",
       "      <td>0</td>\n",
       "      <td>0</td>\n",
       "      <td>0</td>\n",
       "      <td>0</td>\n",
       "      <td>0</td>\n",
       "      <td>0</td>\n",
       "      <td>...</td>\n",
       "      <td>0</td>\n",
       "      <td>0</td>\n",
       "      <td>0</td>\n",
       "      <td>0</td>\n",
       "      <td>0</td>\n",
       "      <td>0</td>\n",
       "      <td>0</td>\n",
       "      <td>0</td>\n",
       "      <td>0</td>\n",
       "      <td>0</td>\n",
       "    </tr>\n",
       "  </tbody>\n",
       "</table>\n",
       "<p>42000 rows × 785 columns</p>\n",
       "</div>"
      ],
      "text/plain": [
       "       label  pixel0  pixel1  pixel2  pixel3  pixel4  pixel5  pixel6  pixel7  \\\n",
       "0          1       0       0       0       0       0       0       0       0   \n",
       "1          0       0       0       0       0       0       0       0       0   \n",
       "2          1       0       0       0       0       0       0       0       0   \n",
       "3          4       0       0       0       0       0       0       0       0   \n",
       "4          0       0       0       0       0       0       0       0       0   \n",
       "...      ...     ...     ...     ...     ...     ...     ...     ...     ...   \n",
       "41995      0       0       0       0       0       0       0       0       0   \n",
       "41996      1       0       0       0       0       0       0       0       0   \n",
       "41997      7       0       0       0       0       0       0       0       0   \n",
       "41998      6       0       0       0       0       0       0       0       0   \n",
       "41999      9       0       0       0       0       0       0       0       0   \n",
       "\n",
       "       pixel8  ...  pixel774  pixel775  pixel776  pixel777  pixel778  \\\n",
       "0           0  ...         0         0         0         0         0   \n",
       "1           0  ...         0         0         0         0         0   \n",
       "2           0  ...         0         0         0         0         0   \n",
       "3           0  ...         0         0         0         0         0   \n",
       "4           0  ...         0         0         0         0         0   \n",
       "...       ...  ...       ...       ...       ...       ...       ...   \n",
       "41995       0  ...         0         0         0         0         0   \n",
       "41996       0  ...         0         0         0         0         0   \n",
       "41997       0  ...         0         0         0         0         0   \n",
       "41998       0  ...         0         0         0         0         0   \n",
       "41999       0  ...         0         0         0         0         0   \n",
       "\n",
       "       pixel779  pixel780  pixel781  pixel782  pixel783  \n",
       "0             0         0         0         0         0  \n",
       "1             0         0         0         0         0  \n",
       "2             0         0         0         0         0  \n",
       "3             0         0         0         0         0  \n",
       "4             0         0         0         0         0  \n",
       "...         ...       ...       ...       ...       ...  \n",
       "41995         0         0         0         0         0  \n",
       "41996         0         0         0         0         0  \n",
       "41997         0         0         0         0         0  \n",
       "41998         0         0         0         0         0  \n",
       "41999         0         0         0         0         0  \n",
       "\n",
       "[42000 rows x 785 columns]"
      ]
     },
     "execution_count": 4,
     "metadata": {},
     "output_type": "execute_result"
    }
   ],
   "source": [
    "df"
   ]
  },
  {
   "cell_type": "code",
   "execution_count": 5,
   "id": "964035cc-eff6-4b9c-962d-8b1fec60edf4",
   "metadata": {
    "id": "964035cc-eff6-4b9c-962d-8b1fec60edf4",
    "outputId": "96404101-3121-4427-c50f-331b99cc6f21",
    "tags": []
   },
   "outputs": [
    {
     "data": {
      "text/html": [
       "<div>\n",
       "<style scoped>\n",
       "    .dataframe tbody tr th:only-of-type {\n",
       "        vertical-align: middle;\n",
       "    }\n",
       "\n",
       "    .dataframe tbody tr th {\n",
       "        vertical-align: top;\n",
       "    }\n",
       "\n",
       "    .dataframe thead th {\n",
       "        text-align: right;\n",
       "    }\n",
       "</style>\n",
       "<table border=\"1\" class=\"dataframe\">\n",
       "  <thead>\n",
       "    <tr style=\"text-align: right;\">\n",
       "      <th></th>\n",
       "      <th>label</th>\n",
       "      <th>pixel0</th>\n",
       "      <th>pixel1</th>\n",
       "      <th>pixel2</th>\n",
       "      <th>pixel3</th>\n",
       "      <th>pixel4</th>\n",
       "      <th>pixel5</th>\n",
       "      <th>pixel6</th>\n",
       "      <th>pixel7</th>\n",
       "      <th>pixel8</th>\n",
       "      <th>...</th>\n",
       "      <th>pixel774</th>\n",
       "      <th>pixel775</th>\n",
       "      <th>pixel776</th>\n",
       "      <th>pixel777</th>\n",
       "      <th>pixel778</th>\n",
       "      <th>pixel779</th>\n",
       "      <th>pixel780</th>\n",
       "      <th>pixel781</th>\n",
       "      <th>pixel782</th>\n",
       "      <th>pixel783</th>\n",
       "    </tr>\n",
       "  </thead>\n",
       "  <tbody>\n",
       "    <tr>\n",
       "      <th>0</th>\n",
       "      <td>1</td>\n",
       "      <td>0</td>\n",
       "      <td>0</td>\n",
       "      <td>0</td>\n",
       "      <td>0</td>\n",
       "      <td>0</td>\n",
       "      <td>0</td>\n",
       "      <td>0</td>\n",
       "      <td>0</td>\n",
       "      <td>0</td>\n",
       "      <td>...</td>\n",
       "      <td>0</td>\n",
       "      <td>0</td>\n",
       "      <td>0</td>\n",
       "      <td>0</td>\n",
       "      <td>0</td>\n",
       "      <td>0</td>\n",
       "      <td>0</td>\n",
       "      <td>0</td>\n",
       "      <td>0</td>\n",
       "      <td>0</td>\n",
       "    </tr>\n",
       "    <tr>\n",
       "      <th>1</th>\n",
       "      <td>0</td>\n",
       "      <td>0</td>\n",
       "      <td>0</td>\n",
       "      <td>0</td>\n",
       "      <td>0</td>\n",
       "      <td>0</td>\n",
       "      <td>0</td>\n",
       "      <td>0</td>\n",
       "      <td>0</td>\n",
       "      <td>0</td>\n",
       "      <td>...</td>\n",
       "      <td>0</td>\n",
       "      <td>0</td>\n",
       "      <td>0</td>\n",
       "      <td>0</td>\n",
       "      <td>0</td>\n",
       "      <td>0</td>\n",
       "      <td>0</td>\n",
       "      <td>0</td>\n",
       "      <td>0</td>\n",
       "      <td>0</td>\n",
       "    </tr>\n",
       "    <tr>\n",
       "      <th>2</th>\n",
       "      <td>1</td>\n",
       "      <td>0</td>\n",
       "      <td>0</td>\n",
       "      <td>0</td>\n",
       "      <td>0</td>\n",
       "      <td>0</td>\n",
       "      <td>0</td>\n",
       "      <td>0</td>\n",
       "      <td>0</td>\n",
       "      <td>0</td>\n",
       "      <td>...</td>\n",
       "      <td>0</td>\n",
       "      <td>0</td>\n",
       "      <td>0</td>\n",
       "      <td>0</td>\n",
       "      <td>0</td>\n",
       "      <td>0</td>\n",
       "      <td>0</td>\n",
       "      <td>0</td>\n",
       "      <td>0</td>\n",
       "      <td>0</td>\n",
       "    </tr>\n",
       "    <tr>\n",
       "      <th>3</th>\n",
       "      <td>4</td>\n",
       "      <td>0</td>\n",
       "      <td>0</td>\n",
       "      <td>0</td>\n",
       "      <td>0</td>\n",
       "      <td>0</td>\n",
       "      <td>0</td>\n",
       "      <td>0</td>\n",
       "      <td>0</td>\n",
       "      <td>0</td>\n",
       "      <td>...</td>\n",
       "      <td>0</td>\n",
       "      <td>0</td>\n",
       "      <td>0</td>\n",
       "      <td>0</td>\n",
       "      <td>0</td>\n",
       "      <td>0</td>\n",
       "      <td>0</td>\n",
       "      <td>0</td>\n",
       "      <td>0</td>\n",
       "      <td>0</td>\n",
       "    </tr>\n",
       "    <tr>\n",
       "      <th>4</th>\n",
       "      <td>0</td>\n",
       "      <td>0</td>\n",
       "      <td>0</td>\n",
       "      <td>0</td>\n",
       "      <td>0</td>\n",
       "      <td>0</td>\n",
       "      <td>0</td>\n",
       "      <td>0</td>\n",
       "      <td>0</td>\n",
       "      <td>0</td>\n",
       "      <td>...</td>\n",
       "      <td>0</td>\n",
       "      <td>0</td>\n",
       "      <td>0</td>\n",
       "      <td>0</td>\n",
       "      <td>0</td>\n",
       "      <td>0</td>\n",
       "      <td>0</td>\n",
       "      <td>0</td>\n",
       "      <td>0</td>\n",
       "      <td>0</td>\n",
       "    </tr>\n",
       "  </tbody>\n",
       "</table>\n",
       "<p>5 rows × 785 columns</p>\n",
       "</div>"
      ],
      "text/plain": [
       "   label  pixel0  pixel1  pixel2  pixel3  pixel4  pixel5  pixel6  pixel7  \\\n",
       "0      1       0       0       0       0       0       0       0       0   \n",
       "1      0       0       0       0       0       0       0       0       0   \n",
       "2      1       0       0       0       0       0       0       0       0   \n",
       "3      4       0       0       0       0       0       0       0       0   \n",
       "4      0       0       0       0       0       0       0       0       0   \n",
       "\n",
       "   pixel8  ...  pixel774  pixel775  pixel776  pixel777  pixel778  pixel779  \\\n",
       "0       0  ...         0         0         0         0         0         0   \n",
       "1       0  ...         0         0         0         0         0         0   \n",
       "2       0  ...         0         0         0         0         0         0   \n",
       "3       0  ...         0         0         0         0         0         0   \n",
       "4       0  ...         0         0         0         0         0         0   \n",
       "\n",
       "   pixel780  pixel781  pixel782  pixel783  \n",
       "0         0         0         0         0  \n",
       "1         0         0         0         0  \n",
       "2         0         0         0         0  \n",
       "3         0         0         0         0  \n",
       "4         0         0         0         0  \n",
       "\n",
       "[5 rows x 785 columns]"
      ]
     },
     "execution_count": 5,
     "metadata": {},
     "output_type": "execute_result"
    }
   ],
   "source": [
    "df.head(5)"
   ]
  },
  {
   "cell_type": "code",
   "execution_count": 6,
   "id": "54ee419a-1b11-43af-96fa-cc6457ca9c78",
   "metadata": {
    "id": "54ee419a-1b11-43af-96fa-cc6457ca9c78",
    "outputId": "30df6ffb-bf37-484c-a39f-083f9fe1f132",
    "tags": []
   },
   "outputs": [
    {
     "name": "stdout",
     "output_type": "stream",
     "text": [
      "42000 785\n"
     ]
    }
   ],
   "source": [
    "data = np.array(df)\n",
    "m, n = data.shape\n",
    "print(m,n)\n"
   ]
  },
  {
   "cell_type": "code",
   "execution_count": 7,
   "id": "d09b52e6-5c9c-47ad-888e-6c9c556eb48a",
   "metadata": {
    "id": "d09b52e6-5c9c-47ad-888e-6c9c556eb48a",
    "tags": []
   },
   "outputs": [],
   "source": [
    "np.random.shuffle(data) # shuffle before splitting into abc and training sets"
   ]
  },
  {
   "cell_type": "code",
   "execution_count": 8,
   "id": "a35fe1e2-032b-4deb-85ed-872ff594426a",
   "metadata": {
    "id": "a35fe1e2-032b-4deb-85ed-872ff594426a",
    "tags": []
   },
   "outputs": [],
   "source": [
    "#Creating Test Set\n",
    "data_abc = data[0:1000].T\n",
    "Y_abc = data_abc[0]\n",
    "X_abc = data_abc[1:n]\n",
    "X_abc = X_abc / 255.\n"
   ]
  },
  {
   "cell_type": "code",
   "execution_count": 9,
   "id": "c215c30f-51cb-4a55-a0c7-4cc7c09b10bb",
   "metadata": {
    "id": "c215c30f-51cb-4a55-a0c7-4cc7c09b10bb",
    "tags": []
   },
   "outputs": [],
   "source": [
    "#Creating Train Set\n",
    "data_train = data[1000:m].T\n",
    "Y_train = data_train[0]\n",
    "X_train = data_train[1:n]\n",
    "X_train = X_train / 255.\n",
    "_,m_train = X_train.shape"
   ]
  },
  {
   "cell_type": "code",
   "execution_count": 10,
   "id": "62f4e2d9-6c28-43fc-9d19-47e9b147f926",
   "metadata": {
    "id": "62f4e2d9-6c28-43fc-9d19-47e9b147f926",
    "outputId": "7c0fa413-de76-4996-ace1-bb44ffec32d9"
   },
   "outputs": [
    {
     "data": {
      "text/plain": [
       "41000"
      ]
     },
     "execution_count": 10,
     "metadata": {},
     "output_type": "execute_result"
    }
   ],
   "source": [
    "m_train"
   ]
  },
  {
   "cell_type": "code",
   "execution_count": 11,
   "id": "0a030076-d3cb-40a1-b23a-aaf1b238cda6",
   "metadata": {
    "id": "0a030076-d3cb-40a1-b23a-aaf1b238cda6",
    "outputId": "415f6ab7-1e7a-41fd-f68b-d018e6837ce5",
    "tags": []
   },
   "outputs": [
    {
     "data": {
      "text/plain": [
       "(784, 41000)"
      ]
     },
     "execution_count": 11,
     "metadata": {},
     "output_type": "execute_result"
    }
   ],
   "source": [
    "X_train.shape"
   ]
  },
  {
   "cell_type": "code",
   "execution_count": 12,
   "id": "56c3f4ae-ff81-44db-8017-f601650bac3a",
   "metadata": {
    "id": "56c3f4ae-ff81-44db-8017-f601650bac3a",
    "outputId": "fe4fe5c8-03d9-4d5f-c2e0-69926ede8a0d",
    "tags": []
   },
   "outputs": [
    {
     "data": {
      "text/plain": [
       "8597"
      ]
     },
     "execution_count": 12,
     "metadata": {},
     "output_type": "execute_result"
    }
   ],
   "source": [
    "random_index = np.random.randint(0, 41000)\n",
    "random_index"
   ]
  },
  {
   "cell_type": "code",
   "execution_count": 13,
   "id": "451adb09-9e0e-42c9-b97a-2763d939d335",
   "metadata": {
    "id": "451adb09-9e0e-42c9-b97a-2763d939d335",
    "outputId": "99214e2e-1afe-4324-aacc-d99460f8b744",
    "tags": []
   },
   "outputs": [
    {
     "data": {
      "text/plain": [
       "<matplotlib.image.AxesImage at 0x1c0574a1e20>"
      ]
     },
     "execution_count": 13,
     "metadata": {},
     "output_type": "execute_result"
    },
    {
     "data": {
      "image/png": "[encoded data removed]",
      "text/plain": [
       "<Figure size 640x480 with 1 Axes>"
      ]
     },
     "metadata": {},
     "output_type": "display_data"
    }
   ],
   "source": [
    "img = X_train.T[random_index]\n",
    "img = np.reshape(img, (28,28))\n",
    "plt.imshow(img)"
   ]
  },
  {
   "cell_type": "code",
   "execution_count": 14,
   "id": "166e9afe-8c3a-4ca7-ab92-177a362277c3",
   "metadata": {
    "id": "166e9afe-8c3a-4ca7-ab92-177a362277c3",
    "outputId": "1c43924d-5aa5-473c-d4c7-dc719ffc7cf1",
    "tags": []
   },
   "outputs": [
    {
     "data": {
      "text/plain": [
       "3"
      ]
     },
     "execution_count": 14,
     "metadata": {},
     "output_type": "execute_result"
    }
   ],
   "source": [
    "Y_train[random_index]"
   ]
  },
  {
   "cell_type": "markdown",
   "id": "26578f05-6e47-4afb-9457-578ad31424f0",
   "metadata": {
    "id": "26578f05-6e47-4afb-9457-578ad31424f0"
   },
   "source": [
    "**FUNTIONS**"
   ]
  },
  {
   "cell_type": "markdown",
   "id": "bdba8181-ffd3-4d1e-b376-adb9d6c43a9f",
   "metadata": {
    "id": "bdba8181-ffd3-4d1e-b376-adb9d6c43a9f"
   },
   "source": [
    "1. Initialize parameters"
   ]
  },
  {
   "cell_type": "code",
   "execution_count": 15,
   "id": "6ea0f027-e09e-447c-ac94-7a1fa05a2f90",
   "metadata": {
    "id": "6ea0f027-e09e-447c-ac94-7a1fa05a2f90",
    "tags": []
   },
   "outputs": [],
   "source": [
    "def init_params():\n",
    "#     # Number of nodes in the input layer\n",
    "#     n_input = 784\n",
    "\n",
    "#     # Number of nodes in the hidden layer\n",
    "#     n_hidden = 10\n",
    "\n",
    "#     # Number of nodes in the output layer\n",
    "#     n_output = 10\n",
    "    #Initialize weights and biases for the hidden layer\n",
    "    W1 = np.random.rand(10, 784) - 0.5\n",
    "    b1 = np.random.rand(10, 1) - 0.5\n",
    "\n",
    "    # Initialize weights and biases for the output layer\n",
    "    W2 = np.random.rand(10, 10) - 0.5\n",
    "    b2 = np.random.rand(10, 1) - 0.5\n",
    "    return W1, b1, W2, b2"
   ]
  },
  {
   "cell_type": "markdown",
   "id": "36ae04ab-f2ee-4e69-a3ae-17dff7fc0fc1",
   "metadata": {
    "id": "36ae04ab-f2ee-4e69-a3ae-17dff7fc0fc1"
   },
   "source": [
    "2. RELU"
   ]
  },
  {
   "cell_type": "code",
   "execution_count": 16,
   "id": "3a7768e8-ec48-46c6-8c73-5837f03cbc23",
   "metadata": {
    "id": "3a7768e8-ec48-46c6-8c73-5837f03cbc23",
    "tags": []
   },
   "outputs": [],
   "source": [
    "def ReLU(Z):\n",
    "    return np.maximum(Z, 0)"
   ]
  },
  {
   "cell_type": "markdown",
   "id": "9d7faa6e-2fb2-4d89-9bec-f92f3b6fe935",
   "metadata": {
    "id": "9d7faa6e-2fb2-4d89-9bec-f92f3b6fe935"
   },
   "source": [
    "3. SOFTMAX"
   ]
  },
  {
   "cell_type": "code",
   "execution_count": 17,
   "id": "abc41dec-a23c-4b9b-84bf-ad8e55bf5fdf",
   "metadata": {
    "id": "abc41dec-a23c-4b9b-84bf-ad8e55bf5fdf",
    "tags": []
   },
   "outputs": [],
   "source": [
    "def softmax(Z):\n",
    "    A = np.exp(Z) / sum(np.exp(Z))\n",
    "    return A"
   ]
  },
  {
   "cell_type": "markdown",
   "id": "48b79f34-6784-4b91-964c-28655d7de549",
   "metadata": {
    "id": "48b79f34-6784-4b91-964c-28655d7de549",
    "tags": []
   },
   "source": [
    "4. RELU DERIVATIVE"
   ]
  },
  {
   "cell_type": "code",
   "execution_count": 18,
   "id": "bd5ee5cc-deea-4fe2-a391-aa5ef38409d0",
   "metadata": {
    "id": "bd5ee5cc-deea-4fe2-a391-aa5ef38409d0",
    "tags": []
   },
   "outputs": [],
   "source": [
    "def ReLU_deriv(Z):\n",
    "    return Z > 0"
   ]
  },
  {
   "cell_type": "markdown",
   "id": "1b076f66-ab9a-4cb5-8d50-60eb17ac075f",
   "metadata": {
    "id": "1b076f66-ab9a-4cb5-8d50-60eb17ac075f"
   },
   "source": [
    "5. Forward Propagation"
   ]
  },
  {
   "cell_type": "code",
   "execution_count": 19,
   "id": "5717b8da-35c7-485d-8878-4f37f5511db3",
   "metadata": {
    "id": "5717b8da-35c7-485d-8878-4f37f5511db3",
    "tags": []
   },
   "outputs": [],
   "source": [
    "def forward_prop(W1, b1, W2, b2, X):\n",
    "    Z1 = W1.dot(X) + b1\n",
    "    A1 = ReLU(Z1)\n",
    "    Z2 = W2.dot(A1) + b2\n",
    "    A2 = softmax(Z2)\n",
    "    return Z1, A1, Z2, A2"
   ]
  },
  {
   "cell_type": "markdown",
   "id": "2dbd5776-69e7-4cc7-b2a6-4c558e8a5e32",
   "metadata": {
    "id": "2dbd5776-69e7-4cc7-b2a6-4c558e8a5e32"
   },
   "source": [
    "6. One Hot"
   ]
  },
  {
   "cell_type": "code",
   "execution_count": 20,
   "id": "c5d5b8ae-d0ae-4a5f-9408-41356607882f",
   "metadata": {
    "id": "c5d5b8ae-d0ae-4a5f-9408-41356607882f",
    "tags": []
   },
   "outputs": [],
   "source": [
    "def one_hot(Y):\n",
    "    one_hot_Y = np.zeros((Y.size, Y.max() + 1))\n",
    "    one_hot_Y[np.arange(Y.size), Y] = 1\n",
    "    one_hot_Y = one_hot_Y.T\n",
    "    return one_hot_Y"
   ]
  },
  {
   "cell_type": "markdown",
   "id": "9cc80238-e721-4332-95c3-0b97c2d77bf6",
   "metadata": {
    "id": "9cc80238-e721-4332-95c3-0b97c2d77bf6"
   },
   "source": [
    "7. Backward Propagation"
   ]
  },
  {
   "cell_type": "code",
   "execution_count": 21,
   "id": "bb2f0513-f92b-492c-85db-66a5e022e9b2",
   "metadata": {
    "id": "bb2f0513-f92b-492c-85db-66a5e022e9b2",
    "tags": []
   },
   "outputs": [],
   "source": [
    "def backward_prop(Z1, A1, Z2, A2, W1, W2, X, Y):\n",
    "    one_hot_Y = one_hot(Y)\n",
    "    dZ2 = A2 - one_hot_Y\n",
    "    dW2 = 1 / m * dZ2.dot(A1.T)\n",
    "    db2 = 1 / m * np.sum(dZ2)\n",
    "    dZ1 = W2.T.dot(dZ2) * ReLU_deriv(Z1)\n",
    "    dW1 = 1 / m * dZ1.dot(X.T)\n",
    "    db1 = 1 / m * np.sum(dZ1)\n",
    "    return dW1, db1, dW2, db2"
   ]
  },
  {
   "cell_type": "markdown",
   "id": "610b9faf-8bf9-4b32-8221-a8912ec3138f",
   "metadata": {
    "id": "610b9faf-8bf9-4b32-8221-a8912ec3138f"
   },
   "source": [
    "8.Update Parameters"
   ]
  },
  {
   "cell_type": "code",
   "execution_count": 22,
   "id": "d00c11f2-8f4d-45bb-addb-b45417a20669",
   "metadata": {
    "id": "d00c11f2-8f4d-45bb-addb-b45417a20669",
    "tags": []
   },
   "outputs": [],
   "source": [
    "def update_params(W1, b1, W2, b2, dW1, db1, dW2, db2, alpha):\n",
    "    W1 = W1 - alpha * dW1\n",
    "    b1 = b1 - alpha * db1\n",
    "    W2 = W2 - alpha * dW2\n",
    "    b2 = b2 - alpha * db2\n",
    "    return W1, b1, W2, b2"
   ]
  },
  {
   "cell_type": "markdown",
   "id": "9494e1a4-113c-4006-9194-9946d58ba363",
   "metadata": {
    "id": "9494e1a4-113c-4006-9194-9946d58ba363"
   },
   "source": [
    "9.Get predictions"
   ]
  },
  {
   "cell_type": "code",
   "execution_count": 23,
   "id": "08598b1d-078e-4d25-b10a-d64a6294b900",
   "metadata": {
    "id": "08598b1d-078e-4d25-b10a-d64a6294b900",
    "tags": []
   },
   "outputs": [],
   "source": [
    "def get_predictions(A2):\n",
    "    return np.argmax(A2, 0)"
   ]
  },
  {
   "cell_type": "markdown",
   "id": "9c29b399-8751-4f40-b8ea-235b415e2f00",
   "metadata": {
    "id": "9c29b399-8751-4f40-b8ea-235b415e2f00"
   },
   "source": [
    "10(a). Accuracy"
   ]
  },
  {
   "cell_type": "code",
   "execution_count": 24,
   "id": "350616f0-8d97-4ea3-b204-2647396c13c8",
   "metadata": {
    "id": "350616f0-8d97-4ea3-b204-2647396c13c8",
    "tags": []
   },
   "outputs": [],
   "source": [
    "def get_accuracy(predictions, Y):\n",
    "    #print(predictions, Y)\n",
    "    return np.sum(predictions == Y) / Y.size"
   ]
  },
  {
   "cell_type": "markdown",
   "id": "cbd4d098-6d63-49b9-b7ba-622fc87daf85",
   "metadata": {
    "id": "cbd4d098-6d63-49b9-b7ba-622fc87daf85"
   },
   "source": [
    "10(b). Regularization"
   ]
  },
  {
   "cell_type": "code",
   "execution_count": 25,
   "id": "00658109-94dc-4b2e-9b0f-650f7f672fdb",
   "metadata": {
    "id": "00658109-94dc-4b2e-9b0f-650f7f672fdb"
   },
   "outputs": [],
   "source": [
    "def dropout_forward(X, keep_prob):\n",
    "    D = np.random.rand(*X.shape) < keep_prob\n",
    "    A = X * D / keep_prob\n",
    "    return A, D\n",
    "\n",
    "def visualize_dropout(original_data, dropout_data, dropout_mask):\n",
    "    fig, axs = plt.subplots(1, 3, figsize=(12, 4))\n",
    "    legend_handles = [\n",
    "        plt.Line2D([], [], marker='o', color='w', label='THA076BEI009\\nTHA076BEI036', markersize=10, markerfacecolor='black', alpha=0)\n",
    "    ]\n",
    "    plt.legend(handles=legend_handles, loc='upper center', bbox_to_anchor=(0.84, 1.12))  # Adjust the bbox_to_anchor values\n",
    "\n",
    "    axs[0].imshow(original_data.reshape(28, 28), cmap='gray')\n",
    "    axs[0].set_title(\"Original Data\")\n",
    "\n",
    "    axs[1].imshow(dropout_mask.reshape(28, 28), cmap='gray')\n",
    "    axs[1].set_title(\"Dropout Mask\")\n",
    "\n",
    "    axs[2].imshow(dropout_data.reshape(28, 28), cmap='gray')\n",
    "    axs[2].set_title(\"Data with Dropout\")\n",
    "\n",
    "    for ax in axs:\n",
    "        ax.axis('off')\n",
    "\n",
    "    plt.tight_layout()\n",
    "    plt.show()\n",
    "\n",
    "\n"
   ]
  },
  {
   "cell_type": "markdown",
   "id": "a59b5590-c5af-48ee-94e4-08dfa51da2fa",
   "metadata": {
    "id": "a59b5590-c5af-48ee-94e4-08dfa51da2fa"
   },
   "source": [
    "11. Gradient Descent"
   ]
  },
  {
   "cell_type": "code",
   "execution_count": 26,
   "id": "f2bc2201-16b2-4a30-8311-654a451d4531",
   "metadata": {
    "id": "f2bc2201-16b2-4a30-8311-654a451d4531",
    "tags": []
   },
   "outputs": [],
   "source": [
    "def gradient_descent(X, Y, alpha, iterations, keep_prob):\n",
    "    W1, b1, W2, b2 = init_params()\n",
    "    accuracy_scores = []\n",
    "    for i in range(iterations):\n",
    "        A, D = dropout_forward(X, keep_prob)\n",
    "        Z1, A1, Z2, A2 = forward_prop(W1, b1, W2, b2, A)\n",
    "        dW1, db1, dW2, db2 = backward_prop(Z1, A1, Z2, A2, W1, W2, A, Y)\n",
    "        W1, b1, W2, b2 = update_params(W1, b1, W2, b2, dW1, db1, dW2, db2, alpha)\n",
    "        if i % 10 == 0:\n",
    "            print(\"Iteration: \", i)\n",
    "            predictions = get_predictions(A2)\n",
    "            accuracy = get_accuracy(predictions, Y)\n",
    "            print(accuracy)\n",
    "            accuracy_scores.append((i, accuracy))\n",
    "\n",
    "    # Convert accuracy_scores to separate lists for plotting\n",
    "    iterations, accuracies = zip(*accuracy_scores)\n",
    "\n",
    "    # Plotting accuracy vs iterations\n",
    "    plt.plot(iterations, accuracies)\n",
    "    plt.xlabel('Iterations')\n",
    "    plt.ylabel('Accuracy')\n",
    "    plt.title('Accuracy vs Iterations')\n",
    "    legend_handles = [\n",
    "        plt.Line2D([], [], marker='o', color='w', label='THA076BEI009\\nTHA076BEI036', markersize=10, markerfacecolor='black', alpha=0)\n",
    "    ]\n",
    "    plt.legend(handles=legend_handles, loc='upper center', bbox_to_anchor=(0.84, 1.12))  # Adjust the bbox_to_anchor values\n",
    "\n",
    "    plt.show()\n",
    "\n",
    "    return W1, b1, W2, b2"
   ]
  },
  {
   "cell_type": "code",
   "execution_count": 27,
   "id": "d4ff0ac7-4439-479b-99bc-d9bd92d3497c",
   "metadata": {
    "id": "d4ff0ac7-4439-479b-99bc-d9bd92d3497c",
    "outputId": "c232fa3f-a849-42e4-d0e3-0fbd29ec4565",
    "tags": []
   },
   "outputs": [
    {
     "name": "stdout",
     "output_type": "stream",
     "text": [
      "Iteration:  0\n",
      "0.10365853658536585\n",
      "Iteration:  10\n",
      "0.14209756097560974\n",
      "Iteration:  20\n",
      "0.19351219512195122\n",
      "Iteration:  30\n",
      "0.23912195121951219\n",
      "Iteration:  40\n",
      "0.28509756097560973\n",
      "Iteration:  50\n",
      "0.3252926829268293\n",
      "Iteration:  60\n",
      "0.3546829268292683\n",
      "Iteration:  70\n",
      "0.38707317073170733\n",
      "Iteration:  80\n",
      "0.4130243902439024\n",
      "Iteration:  90\n",
      "0.43978048780487805\n",
      "Iteration:  100\n",
      "0.46539024390243905\n",
      "Iteration:  110\n",
      "0.4861463414634146\n",
      "Iteration:  120\n",
      "0.5085609756097561\n",
      "Iteration:  130\n",
      "0.5270243902439025\n",
      "Iteration:  140\n",
      "0.5456829268292683\n",
      "Iteration:  150\n",
      "0.5628048780487804\n",
      "Iteration:  160\n",
      "0.5751463414634146\n",
      "Iteration:  170\n",
      "0.591\n",
      "Iteration:  180\n",
      "0.6006341463414634\n",
      "Iteration:  190\n",
      "0.6173170731707317\n",
      "Iteration:  200\n",
      "0.6250487804878049\n",
      "Iteration:  210\n",
      "0.6342439024390244\n",
      "Iteration:  220\n",
      "0.6431219512195122\n",
      "Iteration:  230\n",
      "0.655609756097561\n",
      "Iteration:  240\n",
      "0.6619268292682927\n",
      "Iteration:  250\n",
      "0.6703170731707317\n",
      "Iteration:  260\n",
      "0.6742439024390244\n",
      "Iteration:  270\n",
      "0.6821951219512196\n",
      "Iteration:  280\n",
      "0.6888292682926829\n",
      "Iteration:  290\n",
      "0.6948048780487804\n",
      "Iteration:  300\n",
      "0.6966585365853658\n",
      "Iteration:  310\n",
      "0.7016097560975609\n",
      "Iteration:  320\n",
      "0.7106585365853658\n",
      "Iteration:  330\n",
      "0.7128536585365853\n",
      "Iteration:  340\n",
      "0.716\n",
      "Iteration:  350\n",
      "0.7187560975609756\n",
      "Iteration:  360\n",
      "0.7210487804878049\n",
      "Iteration:  370\n",
      "0.7267560975609756\n",
      "Iteration:  380\n",
      "0.7301951219512195\n",
      "Iteration:  390\n",
      "0.7320243902439024\n",
      "Iteration:  400\n",
      "0.7347073170731707\n",
      "Iteration:  410\n",
      "0.7397073170731707\n",
      "Iteration:  420\n",
      "0.7417560975609756\n",
      "Iteration:  430\n",
      "0.7434390243902439\n",
      "Iteration:  440\n",
      "0.7482926829268293\n",
      "Iteration:  450\n",
      "0.749\n",
      "Iteration:  460\n",
      "0.7504390243902439\n",
      "Iteration:  470\n",
      "0.7537560975609756\n",
      "Iteration:  480\n",
      "0.757\n",
      "Iteration:  490\n",
      "0.7594390243902439\n",
      "Iteration:  500\n",
      "0.7636829268292683\n",
      "Iteration:  510\n",
      "0.7647804878048781\n",
      "Iteration:  520\n",
      "0.7666829268292683\n",
      "Iteration:  530\n",
      "0.7649756097560976\n",
      "Iteration:  540\n",
      "0.7685853658536586\n",
      "Iteration:  550\n",
      "0.7719512195121951\n",
      "Iteration:  560\n",
      "0.773390243902439\n",
      "Iteration:  570\n",
      "0.7748536585365854\n",
      "Iteration:  580\n",
      "0.7744390243902439\n",
      "Iteration:  590\n",
      "0.7767317073170732\n",
      "Iteration:  600\n",
      "0.7794390243902439\n",
      "Iteration:  610\n",
      "0.7803414634146342\n",
      "Iteration:  620\n",
      "0.7778048780487805\n",
      "Iteration:  630\n",
      "0.7814878048780488\n",
      "Iteration:  640\n",
      "0.7823658536585366\n",
      "Iteration:  650\n",
      "0.783609756097561\n",
      "Iteration:  660\n",
      "0.7884146341463415\n",
      "Iteration:  670\n",
      "0.7858536585365854\n",
      "Iteration:  680\n",
      "0.7857804878048781\n",
      "Iteration:  690\n",
      "0.7896829268292683\n",
      "Iteration:  700\n",
      "0.7924878048780488\n",
      "Iteration:  710\n",
      "0.790829268292683\n",
      "Iteration:  720\n",
      "0.7931219512195122\n",
      "Iteration:  730\n",
      "0.7953658536585366\n",
      "Iteration:  740\n",
      "0.7968536585365854\n",
      "Iteration:  750\n",
      "0.7958780487804878\n",
      "Iteration:  760\n",
      "0.7985121951219513\n",
      "Iteration:  770\n",
      "0.8005365853658537\n",
      "Iteration:  780\n",
      "0.8012682926829269\n",
      "Iteration:  790\n",
      "0.7967804878048781\n"
     ]
    },
    {
     "data": {
      "image/png": "[encoded data removed]",
      "text/plain": [
       "<Figure size 640x480 with 1 Axes>"
      ]
     },
     "metadata": {},
     "output_type": "display_data"
    }
   ],
   "source": [
    "keep_prob = 0.7\n",
    "W1, b1, W2, b2 = gradient_descent(X_train, Y_train, 0.10, 800, keep_prob)"
   ]
  },
  {
   "cell_type": "markdown",
   "id": "2f60b762-fc77-491c-a142-faceb4093497",
   "metadata": {
    "id": "2f60b762-fc77-491c-a142-faceb4093497"
   },
   "source": [
    "12. Make predictions"
   ]
  },
  {
   "cell_type": "code",
   "execution_count": 28,
   "id": "991fbf71-32aa-46f5-bad3-dec74c1f9fa2",
   "metadata": {
    "id": "991fbf71-32aa-46f5-bad3-dec74c1f9fa2",
    "tags": []
   },
   "outputs": [],
   "source": [
    "def make_predictions(X, W1, b1, W2, b2):\n",
    "    _, _, _, A2 = forward_prop(W1, b1, W2, b2, X)\n",
    "    predictions = get_predictions(A2)\n",
    "    return predictions"
   ]
  },
  {
   "cell_type": "markdown",
   "id": "13d97fe9-1ca6-4b6a-982b-2dd8f83173f5",
   "metadata": {
    "id": "13d97fe9-1ca6-4b6a-982b-2dd8f83173f5"
   },
   "source": [
    "13. Test Predictions"
   ]
  },
  {
   "cell_type": "code",
   "execution_count": 29,
   "id": "dcf1d91f-1cab-4beb-b0e6-297241235dbe",
   "metadata": {
    "id": "dcf1d91f-1cab-4beb-b0e6-297241235dbe",
    "tags": []
   },
   "outputs": [],
   "source": [
    "def test_prediction(index, W1, b1, W2, b2):\n",
    "    current_image = X_train[:, index, None]\n",
    "    prediction = make_predictions(X_train[:, index, None], W1, b1, W2, b2)\n",
    "    label = Y_train[index]\n",
    "    print(\"Prediction: \", prediction)\n",
    "    print(\"Label: \", label)\n",
    "    legend_handles = [\n",
    "        plt.Line2D([], [], marker='o', color='w', label='THA076BEI009\\nTHA076BEI036', markersize=10, markerfacecolor='black', alpha=0)\n",
    "    ]\n",
    "    plt.legend(handles=legend_handles, loc='upper center', bbox_to_anchor=(0.84, 1.12))  # Adjust the bbox_to_anchor values\n",
    "\n",
    "    current_image = current_image.reshape((28, 28)) * 255\n",
    "    plt.gray()\n",
    "    plt.imshow(current_image, interpolation='nearest')\n",
    "    plt.show()"
   ]
  },
  {
   "cell_type": "code",
   "execution_count": 30,
   "id": "65f7eaac-46cc-4035-90a8-c48dd4a83908",
   "metadata": {
    "id": "65f7eaac-46cc-4035-90a8-c48dd4a83908",
    "outputId": "37e64ae1-14aa-4a33-eeac-5b61cadc5816",
    "tags": []
   },
   "outputs": [
    {
     "name": "stdout",
     "output_type": "stream",
     "text": [
      "Prediction:  [3]\n",
      "Label:  3\n"
     ]
    },
    {
     "data": {
      "image/png": "[encoded data removed]",
      "text/plain": [
       "<Figure size 640x480 with 1 Axes>"
      ]
     },
     "metadata": {},
     "output_type": "display_data"
    }
   ],
   "source": [
    "test_prediction(0, W1, b1, W2, b2)\n",
    "\n",
    "\n"
   ]
  },
  {
   "cell_type": "code",
   "execution_count": 31,
   "id": "431ed94f",
   "metadata": {},
   "outputs": [
    {
     "name": "stdout",
     "output_type": "stream",
     "text": [
      "Prediction:  [6]\n",
      "Label:  4\n"
     ]
    },
    {
     "data": {
      "image/png": "[encoded data removed]",
      "text/plain": [
       "<Figure size 640x480 with 1 Axes>"
      ]
     },
     "metadata": {},
     "output_type": "display_data"
    }
   ],
   "source": [
    "test_prediction(1, W1, b1, W2, b2)"
   ]
  },
  {
   "cell_type": "code",
   "execution_count": 32,
   "id": "8949887e",
   "metadata": {},
   "outputs": [
    {
     "name": "stdout",
     "output_type": "stream",
     "text": [
      "Prediction:  [9]\n",
      "Label:  4\n"
     ]
    },
    {
     "data": {
      "image/png": "[encoded data removed]",
      "text/plain": [
       "<Figure size 640x480 with 1 Axes>"
      ]
     },
     "metadata": {},
     "output_type": "display_data"
    }
   ],
   "source": [
    "test_prediction(2, W1, b1, W2, b2)"
   ]
  },
  {
   "cell_type": "code",
   "execution_count": 33,
   "id": "1ad5d6ee",
   "metadata": {},
   "outputs": [
    {
     "name": "stdout",
     "output_type": "stream",
     "text": [
      "Prediction:  [2]\n",
      "Label:  2\n"
     ]
    },
    {
     "data": {
      "image/png": "[encoded data removed]",
      "text/plain": [
       "<Figure size 640x480 with 1 Axes>"
      ]
     },
     "metadata": {},
     "output_type": "display_data"
    }
   ],
   "source": [
    "test_prediction(3, W1, b1, W2, b2)"
   ]
  },
  {
   "cell_type": "code",
   "execution_count": 34,
   "id": "4d653ff9-a69e-495b-91fb-bda87935e7b6",
   "metadata": {
    "id": "4d653ff9-a69e-495b-91fb-bda87935e7b6",
    "outputId": "374e3fef-7874-44f0-ed67-0355469a7398",
    "tags": []
   },
   "outputs": [
    {
     "data": {
      "text/plain": [
       "0.871"
      ]
     },
     "execution_count": 34,
     "metadata": {},
     "output_type": "execute_result"
    }
   ],
   "source": [
    "abc_predictions = make_predictions(X_abc, W1, b1, W2, b2)\n",
    "get_accuracy(abc_predictions, Y_abc)"
   ]
  },
  {
   "cell_type": "code",
   "execution_count": 35,
   "id": "6d679faf-7fd5-4f7f-8457-909ee2f41f93",
   "metadata": {
    "id": "6d679faf-7fd5-4f7f-8457-909ee2f41f93"
   },
   "outputs": [
    {
     "name": "stdout",
     "output_type": "stream",
     "text": [
      "Classification Report:\n",
      "               precision    recall  f1-score   support\n",
      "\n",
      "           0     0.9677    0.9375    0.9524        96\n",
      "           1     0.9825    0.9032    0.9412       124\n",
      "           2     0.9159    0.8991    0.9074       109\n",
      "           3     0.8762    0.8598    0.8679       107\n",
      "           4     0.9032    0.8485    0.8750        99\n",
      "           5     0.7143    0.8333    0.7692        78\n",
      "           6     0.9140    0.8586    0.8854        99\n",
      "           7     0.8300    0.8830    0.8557        94\n",
      "           8     0.7900    0.8681    0.8272        91\n",
      "           9     0.7981    0.8058    0.8019       103\n",
      "\n",
      "    accuracy                         0.8710      1000\n",
      "   macro avg     0.8692    0.8697    0.8683      1000\n",
      "weighted avg     0.8760    0.8710    0.8725      1000\n",
      "\n"
     ]
    }
   ],
   "source": [
    "from sklearn.metrics import classification_report\n",
    "\n",
    "abc_predictions = make_predictions(X_abc, W1, b1, W2, b2)\n",
    "report = classification_report(abc_predictions,Y_abc, digits=4)\n",
    "\n",
    "print(\"Classification Report:\\n\", report)\n"
   ]
  },
  {
   "cell_type": "code",
   "execution_count": 36,
   "id": "9fb0c3c9",
   "metadata": {},
   "outputs": [
    {
     "name": "stdout",
     "output_type": "stream",
     "text": [
      "9538\n"
     ]
    },
    {
     "data": {
      "image/png": "[encoded data removed]",
      "text/plain": [
       "<Figure size 1200x400 with 3 Axes>"
      ]
     },
     "metadata": {},
     "output_type": "display_data"
    }
   ],
   "source": [
    "# Example usage\n",
    "input_size, m = X_train.shape # Number of examples\n",
    "X = X_train.copy()\n",
    "keep_prob = 0.8\n",
    "\n",
    "# Select a random example index for visualization\n",
    "example_index = np.random.randint(0, m)\n",
    "print(example_index)\n",
    "example_data = X[:, example_index].reshape(input_size, 1)\n",
    "\n",
    "A, D = dropout_forward(example_data, keep_prob)\n",
    "visualize_dropout(example_data, A, D)"
   ]
  },
  {
   "cell_type": "code",
   "execution_count": null,
   "id": "bd919339",
   "metadata": {},
   "outputs": [],
   "source": []
  },
  {
   "cell_type": "code",
   "execution_count": null,
   "id": "ed4b0cdc",
   "metadata": {},
   "outputs": [],
   "source": []
  },
  {
   "cell_type": "code",
   "execution_count": null,
   "id": "888a3ee7",
   "metadata": {},
   "outputs": [],
   "source": []
  },
  {
   "cell_type": "code",
   "execution_count": null,
   "id": "0221c9fc",
   "metadata": {},
   "outputs": [],
   "source": []
  },
  {
   "cell_type": "code",
   "execution_count": null,
   "id": "5ee051ba",
   "metadata": {},
   "outputs": [],
   "source": []
  },
  {
   "cell_type": "code",
   "execution_count": null,
   "id": "e32161b1",
   "metadata": {},
   "outputs": [],
   "source": []
  },
  {
   "cell_type": "code",
   "execution_count": null,
   "id": "61d0d56d",
   "metadata": {},
   "outputs": [],
   "source": []
  },
  {
   "cell_type": "code",
   "execution_count": null,
   "id": "3fc094bf",
   "metadata": {},
   "outputs": [],
   "source": []
  },
  {
   "cell_type": "code",
   "execution_count": null,
   "id": "997da398",
   "metadata": {},
   "outputs": [],
   "source": []
  },
  {
   "cell_type": "code",
   "execution_count": null,
   "id": "8d24b5b8",
   "metadata": {},
   "outputs": [],
   "source": []
  },
  {
   "cell_type": "code",
   "execution_count": null,
   "id": "530a3694",
   "metadata": {},
   "outputs": [],
   "source": []
  },
  {
   "cell_type": "code",
   "execution_count": null,
   "id": "6fea024d",
   "metadata": {},
   "outputs": [],
   "source": []
  },
  {
   "cell_type": "code",
   "execution_count": null,
   "id": "efc142e0",
   "metadata": {},
   "outputs": [],
   "source": []
  },
  {
   "cell_type": "code",
   "execution_count": null,
   "id": "d0159f31",
   "metadata": {},
   "outputs": [],
   "source": []
  },
  {
   "cell_type": "code",
   "execution_count": null,
   "id": "54fe6fe1",
   "metadata": {},
   "outputs": [],
   "source": []
  },
  {
   "cell_type": "code",
   "execution_count": null,
   "id": "24405966",
   "metadata": {},
   "outputs": [],
   "source": []
  },
  {
   "cell_type": "code",
   "execution_count": null,
   "id": "a3369aa8",
   "metadata": {},
   "outputs": [],
   "source": []
  },
  {
   "cell_type": "code",
   "execution_count": null,
   "id": "367fbb1d",
   "metadata": {},
   "outputs": [],
   "source": []
  },
  {
   "cell_type": "code",
   "execution_count": null,
   "id": "62054a21",
   "metadata": {},
   "outputs": [],
   "source": []
  },
  {
   "cell_type": "code",
   "execution_count": null,
   "id": "acbcf46c",
   "metadata": {},
   "outputs": [],
   "source": []
  },
  {
   "cell_type": "code",
   "execution_count": null,
   "id": "2859feaa",
   "metadata": {},
   "outputs": [],
   "source": []
  },
  {
   "cell_type": "code",
   "execution_count": null,
   "id": "3d3657e3",
   "metadata": {},
   "outputs": [],
   "source": []
  },
  {
   "cell_type": "code",
   "execution_count": null,
   "id": "1ad15f9d",
   "metadata": {},
   "outputs": [],
   "source": []
  },
  {
   "cell_type": "code",
   "execution_count": null,
   "id": "5c3b3d4b",
   "metadata": {},
   "outputs": [],
   "source": []
  },
  {
   "cell_type": "code",
   "execution_count": null,
   "id": "ea55007e",
   "metadata": {},
   "outputs": [],
   "source": []
  },
  {
   "cell_type": "code",
   "execution_count": null,
   "id": "476cc5a7",
   "metadata": {},
   "outputs": [],
   "source": []
  },
  {
   "cell_type": "code",
   "execution_count": null,
   "id": "9c5929c8",
   "metadata": {},
   "outputs": [],
   "source": []
  },
  {
   "cell_type": "code",
   "execution_count": null,
   "id": "17c0fa65",
   "metadata": {},
   "outputs": [],
   "source": []
  },
  {
   "cell_type": "code",
   "execution_count": null,
   "id": "9e163c9f",
   "metadata": {},
   "outputs": [],
   "source": []
  },
  {
   "cell_type": "code",
   "execution_count": null,
   "id": "ef48e881",
   "metadata": {},
   "outputs": [],
   "source": []
  },
  {
   "cell_type": "code",
   "execution_count": null,
   "id": "a25d66c1",
   "metadata": {},
   "outputs": [],
   "source": []
  },
  {
   "cell_type": "code",
   "execution_count": null,
   "id": "30fa901b",
   "metadata": {},
   "outputs": [],
   "source": []
  },
  {
   "cell_type": "code",
   "execution_count": null,
   "id": "8f01cf47",
   "metadata": {},
   "outputs": [],
   "source": []
  },
  {
   "cell_type": "code",
   "execution_count": null,
   "id": "ef0ce2b0",
   "metadata": {},
   "outputs": [],
   "source": []
  },
  {
   "cell_type": "code",
   "execution_count": null,
   "id": "639bbf5f",
   "metadata": {},
   "outputs": [],
   "source": []
  },
  {
   "cell_type": "code",
   "execution_count": null,
   "id": "6eaf8617",
   "metadata": {},
   "outputs": [],
   "source": []
  },
  {
   "cell_type": "code",
   "execution_count": null,
   "id": "a438e3f2",
   "metadata": {},
   "outputs": [],
   "source": []
  },
  {
   "cell_type": "code",
   "execution_count": null,
   "id": "7aa4afd7",
   "metadata": {},
   "outputs": [],
   "source": []
  },
  {
   "cell_type": "code",
   "execution_count": null,
   "id": "50e2474c",
   "metadata": {},
   "outputs": [],
   "source": []
  },
  {
   "cell_type": "code",
   "execution_count": null,
   "id": "5408c9b8",
   "metadata": {},
   "outputs": [],
   "source": []
  },
  {
   "cell_type": "code",
   "execution_count": null,
   "id": "ad5564e4",
   "metadata": {},
   "outputs": [],
   "source": []
  },
  {
   "cell_type": "code",
   "execution_count": null,
   "id": "dcf53324",
   "metadata": {},
   "outputs": [],
   "source": []
  },
  {
   "cell_type": "code",
   "execution_count": null,
   "id": "5c611ecb",
   "metadata": {},
   "outputs": [],
   "source": []
  },
  {
   "cell_type": "code",
   "execution_count": null,
   "id": "8ae84f7f",
   "metadata": {},
   "outputs": [],
   "source": []
  },
  {
   "cell_type": "code",
   "execution_count": null,
   "id": "1c0c7101",
   "metadata": {},
   "outputs": [],
   "source": []
  },
  {
   "cell_type": "code",
   "execution_count": null,
   "id": "ff043879",
   "metadata": {},
   "outputs": [],
   "source": []
  },
  {
   "cell_type": "code",
   "execution_count": null,
   "id": "d4998773",
   "metadata": {},
   "outputs": [],
   "source": []
  },
  {
   "cell_type": "code",
   "execution_count": null,
   "id": "38881a90",
   "metadata": {},
   "outputs": [],
   "source": []
  },
  {
   "cell_type": "code",
   "execution_count": null,
   "id": "d966d405",
   "metadata": {},
   "outputs": [],
   "source": []
  },
  {
   "cell_type": "code",
   "execution_count": null,
   "id": "a1b03650",
   "metadata": {},
   "outputs": [],
   "source": []
  },
  {
   "cell_type": "code",
   "execution_count": null,
   "id": "a6b60926",
   "metadata": {},
   "outputs": [],
   "source": []
  },
  {
   "cell_type": "code",
   "execution_count": null,
   "id": "4c55a2f3",
   "metadata": {},
   "outputs": [],
   "source": []
  },
  {
   "cell_type": "code",
   "execution_count": null,
   "id": "d9902eba",
   "metadata": {},
   "outputs": [],
   "source": []
  },
  {
   "cell_type": "code",
   "execution_count": null,
   "id": "9fdb50d8",
   "metadata": {},
   "outputs": [],
   "source": []
  },
  {
   "cell_type": "code",
   "execution_count": null,
   "id": "27b0eaad",
   "metadata": {},
   "outputs": [],
   "source": []
  },
  {
   "cell_type": "code",
   "execution_count": null,
   "id": "99d47b04",
   "metadata": {},
   "outputs": [],
   "source": []
  },
  {
   "cell_type": "code",
   "execution_count": null,
   "id": "0de254d8",
   "metadata": {},
   "outputs": [],
   "source": []
  },
  {
   "cell_type": "code",
   "execution_count": null,
   "id": "1d69fd00",
   "metadata": {},
   "outputs": [],
   "source": []
  },
  {
   "cell_type": "code",
   "execution_count": null,
   "id": "d934ddc9",
   "metadata": {},
   "outputs": [],
   "source": []
  },
  {
   "cell_type": "code",
   "execution_count": null,
   "id": "325805ff",
   "metadata": {},
   "outputs": [],
   "source": []
  },
  {
   "cell_type": "code",
   "execution_count": null,
   "id": "5dec2183",
   "metadata": {},
   "outputs": [],
   "source": []
  },
  {
   "cell_type": "code",
   "execution_count": null,
   "id": "fc83690e",
   "metadata": {},
   "outputs": [],
   "source": []
  },
  {
   "cell_type": "code",
   "execution_count": null,
   "id": "b35e3a9c",
   "metadata": {},
   "outputs": [],
   "source": []
  },
  {
   "cell_type": "code",
   "execution_count": null,
   "id": "3ed6d81a",
   "metadata": {},
   "outputs": [],
   "source": []
  }
 ],
 "metadata": {
  "colab": {
   "provenance": []
  },
  "kernelspec": {
   "display_name": "Python 3 (ipykernel)",
   "language": "python",
   "name": "python3"
  },
  "language_info": {
   "codemirror_mode": {
    "name": "ipython",
    "version": 3
   },
   "file_extension": ".py",
   "mimetype": "text/x-python",
   "name": "python",
   "nbconvert_exporter": "python",
   "pygments_lexer": "ipython3",
   "version": "3.9.13"
  }
 },
 "nbformat": 4,
 "nbformat_minor": 5
}
