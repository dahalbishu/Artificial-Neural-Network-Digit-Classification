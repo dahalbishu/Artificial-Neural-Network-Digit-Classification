{
 "cells": [
  {
   "cell_type": "code",
   "execution_count": 1,
   "id": "3413fcf2-7032-4db7-96b8-b3a45106a720",
   "metadata": {
    "tags": []
   },
   "outputs": [],
   "source": [
    "import pandas as pd\n",
    "import numpy as np\n",
    "import matplotlib.pyplot as plt\n",
    "from sklearn.model_selection import train_test_split\n",
    "from sklearn.metrics import confusion_matrix , classification_report\n",
    "import random"
   ]
  },
  {
   "cell_type": "code",
   "execution_count": 2,
   "id": "620d58b0-c023-419b-8a23-f9942fb5f1e4",
   "metadata": {},
   "outputs": [],
   "source": [
    "np.random.seed(52)"
   ]
  },
  {
   "cell_type": "code",
   "execution_count": 3,
   "id": "030cdd93-b7a0-48a2-8b32-a539918eabbb",
   "metadata": {
    "tags": []
   },
   "outputs": [],
   "source": [
    "df = pd.read_csv('digit_data.csv')"
   ]
  },
  {
   "cell_type": "code",
   "execution_count": 4,
   "id": "fc0489c6-d4c5-4107-87d0-e330e127f4e0",
   "metadata": {
    "tags": []
   },
   "outputs": [
    {
     "data": {
      "text/html": [
       "<div>\n",
       "<style scoped>\n",
       "    .dataframe tbody tr th:only-of-type {\n",
       "        vertical-align: middle;\n",
       "    }\n",
       "\n",
       "    .dataframe tbody tr th {\n",
       "        vertical-align: top;\n",
       "    }\n",
       "\n",
       "    .dataframe thead th {\n",
       "        text-align: right;\n",
       "    }\n",
       "</style>\n",
       "<table border=\"1\" class=\"dataframe\">\n",
       "  <thead>\n",
       "    <tr style=\"text-align: right;\">\n",
       "      <th></th>\n",
       "      <th>label</th>\n",
       "      <th>pixel0</th>\n",
       "      <th>pixel1</th>\n",
       "      <th>pixel2</th>\n",
       "      <th>pixel3</th>\n",
       "      <th>pixel4</th>\n",
       "      <th>pixel5</th>\n",
       "      <th>pixel6</th>\n",
       "      <th>pixel7</th>\n",
       "      <th>pixel8</th>\n",
       "      <th>...</th>\n",
       "      <th>pixel774</th>\n",
       "      <th>pixel775</th>\n",
       "      <th>pixel776</th>\n",
       "      <th>pixel777</th>\n",
       "      <th>pixel778</th>\n",
       "      <th>pixel779</th>\n",
       "      <th>pixel780</th>\n",
       "      <th>pixel781</th>\n",
       "      <th>pixel782</th>\n",
       "      <th>pixel783</th>\n",
       "    </tr>\n",
       "  </thead>\n",
       "  <tbody>\n",
       "    <tr>\n",
       "      <th>0</th>\n",
       "      <td>1</td>\n",
       "      <td>0</td>\n",
       "      <td>0</td>\n",
       "      <td>0</td>\n",
       "      <td>0</td>\n",
       "      <td>0</td>\n",
       "      <td>0</td>\n",
       "      <td>0</td>\n",
       "      <td>0</td>\n",
       "      <td>0</td>\n",
       "      <td>...</td>\n",
       "      <td>0</td>\n",
       "      <td>0</td>\n",
       "      <td>0</td>\n",
       "      <td>0</td>\n",
       "      <td>0</td>\n",
       "      <td>0</td>\n",
       "      <td>0</td>\n",
       "      <td>0</td>\n",
       "      <td>0</td>\n",
       "      <td>0</td>\n",
       "    </tr>\n",
       "    <tr>\n",
       "      <th>1</th>\n",
       "      <td>0</td>\n",
       "      <td>0</td>\n",
       "      <td>0</td>\n",
       "      <td>0</td>\n",
       "      <td>0</td>\n",
       "      <td>0</td>\n",
       "      <td>0</td>\n",
       "      <td>0</td>\n",
       "      <td>0</td>\n",
       "      <td>0</td>\n",
       "      <td>...</td>\n",
       "      <td>0</td>\n",
       "      <td>0</td>\n",
       "      <td>0</td>\n",
       "      <td>0</td>\n",
       "      <td>0</td>\n",
       "      <td>0</td>\n",
       "      <td>0</td>\n",
       "      <td>0</td>\n",
       "      <td>0</td>\n",
       "      <td>0</td>\n",
       "    </tr>\n",
       "    <tr>\n",
       "      <th>2</th>\n",
       "      <td>1</td>\n",
       "      <td>0</td>\n",
       "      <td>0</td>\n",
       "      <td>0</td>\n",
       "      <td>0</td>\n",
       "      <td>0</td>\n",
       "      <td>0</td>\n",
       "      <td>0</td>\n",
       "      <td>0</td>\n",
       "      <td>0</td>\n",
       "      <td>...</td>\n",
       "      <td>0</td>\n",
       "      <td>0</td>\n",
       "      <td>0</td>\n",
       "      <td>0</td>\n",
       "      <td>0</td>\n",
       "      <td>0</td>\n",
       "      <td>0</td>\n",
       "      <td>0</td>\n",
       "      <td>0</td>\n",
       "      <td>0</td>\n",
       "    </tr>\n",
       "    <tr>\n",
       "      <th>3</th>\n",
       "      <td>4</td>\n",
       "      <td>0</td>\n",
       "      <td>0</td>\n",
       "      <td>0</td>\n",
       "      <td>0</td>\n",
       "      <td>0</td>\n",
       "      <td>0</td>\n",
       "      <td>0</td>\n",
       "      <td>0</td>\n",
       "      <td>0</td>\n",
       "      <td>...</td>\n",
       "      <td>0</td>\n",
       "      <td>0</td>\n",
       "      <td>0</td>\n",
       "      <td>0</td>\n",
       "      <td>0</td>\n",
       "      <td>0</td>\n",
       "      <td>0</td>\n",
       "      <td>0</td>\n",
       "      <td>0</td>\n",
       "      <td>0</td>\n",
       "    </tr>\n",
       "    <tr>\n",
       "      <th>4</th>\n",
       "      <td>0</td>\n",
       "      <td>0</td>\n",
       "      <td>0</td>\n",
       "      <td>0</td>\n",
       "      <td>0</td>\n",
       "      <td>0</td>\n",
       "      <td>0</td>\n",
       "      <td>0</td>\n",
       "      <td>0</td>\n",
       "      <td>0</td>\n",
       "      <td>...</td>\n",
       "      <td>0</td>\n",
       "      <td>0</td>\n",
       "      <td>0</td>\n",
       "      <td>0</td>\n",
       "      <td>0</td>\n",
       "      <td>0</td>\n",
       "      <td>0</td>\n",
       "      <td>0</td>\n",
       "      <td>0</td>\n",
       "      <td>0</td>\n",
       "    </tr>\n",
       "    <tr>\n",
       "      <th>...</th>\n",
       "      <td>...</td>\n",
       "      <td>...</td>\n",
       "      <td>...</td>\n",
       "      <td>...</td>\n",
       "      <td>...</td>\n",
       "      <td>...</td>\n",
       "      <td>...</td>\n",
       "      <td>...</td>\n",
       "      <td>...</td>\n",
       "      <td>...</td>\n",
       "      <td>...</td>\n",
       "      <td>...</td>\n",
       "      <td>...</td>\n",
       "      <td>...</td>\n",
       "      <td>...</td>\n",
       "      <td>...</td>\n",
       "      <td>...</td>\n",
       "      <td>...</td>\n",
       "      <td>...</td>\n",
       "      <td>...</td>\n",
       "      <td>...</td>\n",
       "    </tr>\n",
       "    <tr>\n",
       "      <th>41995</th>\n",
       "      <td>0</td>\n",
       "      <td>0</td>\n",
       "      <td>0</td>\n",
       "      <td>0</td>\n",
       "      <td>0</td>\n",
       "      <td>0</td>\n",
       "      <td>0</td>\n",
       "      <td>0</td>\n",
       "      <td>0</td>\n",
       "      <td>0</td>\n",
       "      <td>...</td>\n",
       "      <td>0</td>\n",
       "      <td>0</td>\n",
       "      <td>0</td>\n",
       "      <td>0</td>\n",
       "      <td>0</td>\n",
       "      <td>0</td>\n",
       "      <td>0</td>\n",
       "      <td>0</td>\n",
       "      <td>0</td>\n",
       "      <td>0</td>\n",
       "    </tr>\n",
       "    <tr>\n",
       "      <th>41996</th>\n",
       "      <td>1</td>\n",
       "      <td>0</td>\n",
       "      <td>0</td>\n",
       "      <td>0</td>\n",
       "      <td>0</td>\n",
       "      <td>0</td>\n",
       "      <td>0</td>\n",
       "      <td>0</td>\n",
       "      <td>0</td>\n",
       "      <td>0</td>\n",
       "      <td>...</td>\n",
       "      <td>0</td>\n",
       "      <td>0</td>\n",
       "      <td>0</td>\n",
       "      <td>0</td>\n",
       "      <td>0</td>\n",
       "      <td>0</td>\n",
       "      <td>0</td>\n",
       "      <td>0</td>\n",
       "      <td>0</td>\n",
       "      <td>0</td>\n",
       "    </tr>\n",
       "    <tr>\n",
       "      <th>41997</th>\n",
       "      <td>7</td>\n",
       "      <td>0</td>\n",
       "      <td>0</td>\n",
       "      <td>0</td>\n",
       "      <td>0</td>\n",
       "      <td>0</td>\n",
       "      <td>0</td>\n",
       "      <td>0</td>\n",
       "      <td>0</td>\n",
       "      <td>0</td>\n",
       "      <td>...</td>\n",
       "      <td>0</td>\n",
       "      <td>0</td>\n",
       "      <td>0</td>\n",
       "      <td>0</td>\n",
       "      <td>0</td>\n",
       "      <td>0</td>\n",
       "      <td>0</td>\n",
       "      <td>0</td>\n",
       "      <td>0</td>\n",
       "      <td>0</td>\n",
       "    </tr>\n",
       "    <tr>\n",
       "      <th>41998</th>\n",
       "      <td>6</td>\n",
       "      <td>0</td>\n",
       "      <td>0</td>\n",
       "      <td>0</td>\n",
       "      <td>0</td>\n",
       "      <td>0</td>\n",
       "      <td>0</td>\n",
       "      <td>0</td>\n",
       "      <td>0</td>\n",
       "      <td>0</td>\n",
       "      <td>...</td>\n",
       "      <td>0</td>\n",
       "      <td>0</td>\n",
       "      <td>0</td>\n",
       "      <td>0</td>\n",
       "      <td>0</td>\n",
       "      <td>0</td>\n",
       "      <td>0</td>\n",
       "      <td>0</td>\n",
       "      <td>0</td>\n",
       "      <td>0</td>\n",
       "    </tr>\n",
       "    <tr>\n",
       "      <th>41999</th>\n",
       "      <td>9</td>\n",
       "      <td>0</td>\n",
       "      <td>0</td>\n",
       "      <td>0</td>\n",
       "      <td>0</td>\n",
       "      <td>0</td>\n",
       "      <td>0</td>\n",
       "      <td>0</td>\n",
       "      <td>0</td>\n",
       "      <td>0</td>\n",
       "      <td>...</td>\n",
       "      <td>0</td>\n",
       "      <td>0</td>\n",
       "      <td>0</td>\n",
       "      <td>0</td>\n",
       "      <td>0</td>\n",
       "      <td>0</td>\n",
       "      <td>0</td>\n",
       "      <td>0</td>\n",
       "      <td>0</td>\n",
       "      <td>0</td>\n",
       "    </tr>\n",
       "  </tbody>\n",
       "</table>\n",
       "<p>42000 rows × 785 columns</p>\n",
       "</div>"
      ],
      "text/plain": [
       "       label  pixel0  pixel1  pixel2  pixel3  pixel4  pixel5  pixel6  pixel7  \\\n",
       "0          1       0       0       0       0       0       0       0       0   \n",
       "1          0       0       0       0       0       0       0       0       0   \n",
       "2          1       0       0       0       0       0       0       0       0   \n",
       "3          4       0       0       0       0       0       0       0       0   \n",
       "4          0       0       0       0       0       0       0       0       0   \n",
       "...      ...     ...     ...     ...     ...     ...     ...     ...     ...   \n",
       "41995      0       0       0       0       0       0       0       0       0   \n",
       "41996      1       0       0       0       0       0       0       0       0   \n",
       "41997      7       0       0       0       0       0       0       0       0   \n",
       "41998      6       0       0       0       0       0       0       0       0   \n",
       "41999      9       0       0       0       0       0       0       0       0   \n",
       "\n",
       "       pixel8  ...  pixel774  pixel775  pixel776  pixel777  pixel778  \\\n",
       "0           0  ...         0         0         0         0         0   \n",
       "1           0  ...         0         0         0         0         0   \n",
       "2           0  ...         0         0         0         0         0   \n",
       "3           0  ...         0         0         0         0         0   \n",
       "4           0  ...         0         0         0         0         0   \n",
       "...       ...  ...       ...       ...       ...       ...       ...   \n",
       "41995       0  ...         0         0         0         0         0   \n",
       "41996       0  ...         0         0         0         0         0   \n",
       "41997       0  ...         0         0         0         0         0   \n",
       "41998       0  ...         0         0         0         0         0   \n",
       "41999       0  ...         0         0         0         0         0   \n",
       "\n",
       "       pixel779  pixel780  pixel781  pixel782  pixel783  \n",
       "0             0         0         0         0         0  \n",
       "1             0         0         0         0         0  \n",
       "2             0         0         0         0         0  \n",
       "3             0         0         0         0         0  \n",
       "4             0         0         0         0         0  \n",
       "...         ...       ...       ...       ...       ...  \n",
       "41995         0         0         0         0         0  \n",
       "41996         0         0         0         0         0  \n",
       "41997         0         0         0         0         0  \n",
       "41998         0         0         0         0         0  \n",
       "41999         0         0         0         0         0  \n",
       "\n",
       "[42000 rows x 785 columns]"
      ]
     },
     "execution_count": 4,
     "metadata": {},
     "output_type": "execute_result"
    }
   ],
   "source": [
    "df"
   ]
  },
  {
   "cell_type": "code",
   "execution_count": 5,
   "id": "964035cc-eff6-4b9c-962d-8b1fec60edf4",
   "metadata": {
    "tags": []
   },
   "outputs": [
    {
     "data": {
      "text/html": [
       "<div>\n",
       "<style scoped>\n",
       "    .dataframe tbody tr th:only-of-type {\n",
       "        vertical-align: middle;\n",
       "    }\n",
       "\n",
       "    .dataframe tbody tr th {\n",
       "        vertical-align: top;\n",
       "    }\n",
       "\n",
       "    .dataframe thead th {\n",
       "        text-align: right;\n",
       "    }\n",
       "</style>\n",
       "<table border=\"1\" class=\"dataframe\">\n",
       "  <thead>\n",
       "    <tr style=\"text-align: right;\">\n",
       "      <th></th>\n",
       "      <th>label</th>\n",
       "      <th>pixel0</th>\n",
       "      <th>pixel1</th>\n",
       "      <th>pixel2</th>\n",
       "      <th>pixel3</th>\n",
       "      <th>pixel4</th>\n",
       "      <th>pixel5</th>\n",
       "      <th>pixel6</th>\n",
       "      <th>pixel7</th>\n",
       "      <th>pixel8</th>\n",
       "      <th>...</th>\n",
       "      <th>pixel774</th>\n",
       "      <th>pixel775</th>\n",
       "      <th>pixel776</th>\n",
       "      <th>pixel777</th>\n",
       "      <th>pixel778</th>\n",
       "      <th>pixel779</th>\n",
       "      <th>pixel780</th>\n",
       "      <th>pixel781</th>\n",
       "      <th>pixel782</th>\n",
       "      <th>pixel783</th>\n",
       "    </tr>\n",
       "  </thead>\n",
       "  <tbody>\n",
       "    <tr>\n",
       "      <th>0</th>\n",
       "      <td>1</td>\n",
       "      <td>0</td>\n",
       "      <td>0</td>\n",
       "      <td>0</td>\n",
       "      <td>0</td>\n",
       "      <td>0</td>\n",
       "      <td>0</td>\n",
       "      <td>0</td>\n",
       "      <td>0</td>\n",
       "      <td>0</td>\n",
       "      <td>...</td>\n",
       "      <td>0</td>\n",
       "      <td>0</td>\n",
       "      <td>0</td>\n",
       "      <td>0</td>\n",
       "      <td>0</td>\n",
       "      <td>0</td>\n",
       "      <td>0</td>\n",
       "      <td>0</td>\n",
       "      <td>0</td>\n",
       "      <td>0</td>\n",
       "    </tr>\n",
       "    <tr>\n",
       "      <th>1</th>\n",
       "      <td>0</td>\n",
       "      <td>0</td>\n",
       "      <td>0</td>\n",
       "      <td>0</td>\n",
       "      <td>0</td>\n",
       "      <td>0</td>\n",
       "      <td>0</td>\n",
       "      <td>0</td>\n",
       "      <td>0</td>\n",
       "      <td>0</td>\n",
       "      <td>...</td>\n",
       "      <td>0</td>\n",
       "      <td>0</td>\n",
       "      <td>0</td>\n",
       "      <td>0</td>\n",
       "      <td>0</td>\n",
       "      <td>0</td>\n",
       "      <td>0</td>\n",
       "      <td>0</td>\n",
       "      <td>0</td>\n",
       "      <td>0</td>\n",
       "    </tr>\n",
       "    <tr>\n",
       "      <th>2</th>\n",
       "      <td>1</td>\n",
       "      <td>0</td>\n",
       "      <td>0</td>\n",
       "      <td>0</td>\n",
       "      <td>0</td>\n",
       "      <td>0</td>\n",
       "      <td>0</td>\n",
       "      <td>0</td>\n",
       "      <td>0</td>\n",
       "      <td>0</td>\n",
       "      <td>...</td>\n",
       "      <td>0</td>\n",
       "      <td>0</td>\n",
       "      <td>0</td>\n",
       "      <td>0</td>\n",
       "      <td>0</td>\n",
       "      <td>0</td>\n",
       "      <td>0</td>\n",
       "      <td>0</td>\n",
       "      <td>0</td>\n",
       "      <td>0</td>\n",
       "    </tr>\n",
       "    <tr>\n",
       "      <th>3</th>\n",
       "      <td>4</td>\n",
       "      <td>0</td>\n",
       "      <td>0</td>\n",
       "      <td>0</td>\n",
       "      <td>0</td>\n",
       "      <td>0</td>\n",
       "      <td>0</td>\n",
       "      <td>0</td>\n",
       "      <td>0</td>\n",
       "      <td>0</td>\n",
       "      <td>...</td>\n",
       "      <td>0</td>\n",
       "      <td>0</td>\n",
       "      <td>0</td>\n",
       "      <td>0</td>\n",
       "      <td>0</td>\n",
       "      <td>0</td>\n",
       "      <td>0</td>\n",
       "      <td>0</td>\n",
       "      <td>0</td>\n",
       "      <td>0</td>\n",
       "    </tr>\n",
       "    <tr>\n",
       "      <th>4</th>\n",
       "      <td>0</td>\n",
       "      <td>0</td>\n",
       "      <td>0</td>\n",
       "      <td>0</td>\n",
       "      <td>0</td>\n",
       "      <td>0</td>\n",
       "      <td>0</td>\n",
       "      <td>0</td>\n",
       "      <td>0</td>\n",
       "      <td>0</td>\n",
       "      <td>...</td>\n",
       "      <td>0</td>\n",
       "      <td>0</td>\n",
       "      <td>0</td>\n",
       "      <td>0</td>\n",
       "      <td>0</td>\n",
       "      <td>0</td>\n",
       "      <td>0</td>\n",
       "      <td>0</td>\n",
       "      <td>0</td>\n",
       "      <td>0</td>\n",
       "    </tr>\n",
       "  </tbody>\n",
       "</table>\n",
       "<p>5 rows × 785 columns</p>\n",
       "</div>"
      ],
      "text/plain": [
       "   label  pixel0  pixel1  pixel2  pixel3  pixel4  pixel5  pixel6  pixel7  \\\n",
       "0      1       0       0       0       0       0       0       0       0   \n",
       "1      0       0       0       0       0       0       0       0       0   \n",
       "2      1       0       0       0       0       0       0       0       0   \n",
       "3      4       0       0       0       0       0       0       0       0   \n",
       "4      0       0       0       0       0       0       0       0       0   \n",
       "\n",
       "   pixel8  ...  pixel774  pixel775  pixel776  pixel777  pixel778  pixel779  \\\n",
       "0       0  ...         0         0         0         0         0         0   \n",
       "1       0  ...         0         0         0         0         0         0   \n",
       "2       0  ...         0         0         0         0         0         0   \n",
       "3       0  ...         0         0         0         0         0         0   \n",
       "4       0  ...         0         0         0         0         0         0   \n",
       "\n",
       "   pixel780  pixel781  pixel782  pixel783  \n",
       "0         0         0         0         0  \n",
       "1         0         0         0         0  \n",
       "2         0         0         0         0  \n",
       "3         0         0         0         0  \n",
       "4         0         0         0         0  \n",
       "\n",
       "[5 rows x 785 columns]"
      ]
     },
     "execution_count": 5,
     "metadata": {},
     "output_type": "execute_result"
    }
   ],
   "source": [
    "df.head(5)"
   ]
  },
  {
   "cell_type": "code",
   "execution_count": 6,
   "id": "54ee419a-1b11-43af-96fa-cc6457ca9c78",
   "metadata": {
    "tags": []
   },
   "outputs": [
    {
     "name": "stdout",
     "output_type": "stream",
     "text": [
      "42000 785\n"
     ]
    }
   ],
   "source": [
    "data = np.array(df)\n",
    "m, n = data.shape\n",
    "print(m,n)\n"
   ]
  },
  {
   "cell_type": "code",
   "execution_count": 7,
   "id": "d09b52e6-5c9c-47ad-888e-6c9c556eb48a",
   "metadata": {
    "tags": []
   },
   "outputs": [],
   "source": [
    "np.random.shuffle(data) # shuffle before splitting into dev and training sets"
   ]
  },
  {
   "cell_type": "code",
   "execution_count": 8,
   "id": "a35fe1e2-032b-4deb-85ed-872ff594426a",
   "metadata": {
    "tags": []
   },
   "outputs": [],
   "source": [
    "#Creating Test Set\n",
    "data_abc = data[0:1000].T\n",
    "Y_abc = data_abc[0]\n",
    "X_abc = data_abc[1:n]\n",
    "X_abc = X_abc / 255.\n"
   ]
  },
  {
   "cell_type": "code",
   "execution_count": 9,
   "id": "c215c30f-51cb-4a55-a0c7-4cc7c09b10bb",
   "metadata": {
    "tags": []
   },
   "outputs": [],
   "source": [
    "#Creating Train Set\n",
    "data_train = data[1000:m].T\n",
    "Y_train = data_train[0]\n",
    "X_train = data_train[1:n]\n",
    "X_train = X_train / 255.\n",
    "_,m_train = X_train.shape"
   ]
  },
  {
   "cell_type": "code",
   "execution_count": 10,
   "id": "62f4e2d9-6c28-43fc-9d19-47e9b147f926",
   "metadata": {},
   "outputs": [
    {
     "data": {
      "text/plain": [
       "41000"
      ]
     },
     "execution_count": 10,
     "metadata": {},
     "output_type": "execute_result"
    }
   ],
   "source": [
    "m_train"
   ]
  },
  {
   "cell_type": "code",
   "execution_count": 11,
   "id": "0a030076-d3cb-40a1-b23a-aaf1b238cda6",
   "metadata": {
    "tags": []
   },
   "outputs": [
    {
     "data": {
      "text/plain": [
       "(784, 41000)"
      ]
     },
     "execution_count": 11,
     "metadata": {},
     "output_type": "execute_result"
    }
   ],
   "source": [
    "X_train.shape"
   ]
  },
  {
   "cell_type": "code",
   "execution_count": 12,
   "id": "56c3f4ae-ff81-44db-8017-f601650bac3a",
   "metadata": {
    "tags": []
   },
   "outputs": [
    {
     "data": {
      "text/plain": [
       "8597"
      ]
     },
     "execution_count": 12,
     "metadata": {},
     "output_type": "execute_result"
    }
   ],
   "source": [
    "random_index = np.random.randint(0, 41000)\n",
    "random_index"
   ]
  },
  {
   "cell_type": "code",
   "execution_count": 13,
   "id": "451adb09-9e0e-42c9-b97a-2763d939d335",
   "metadata": {
    "tags": []
   },
   "outputs": [
    {
     "data": {
      "text/plain": [
       "<matplotlib.image.AxesImage at 0x28fab8d6fd0>"
      ]
     },
     "execution_count": 13,
     "metadata": {},
     "output_type": "execute_result"
    },
    {
     "data": {
      "image/png": "[encoded data removed]",
      "text/plain": [
       "<Figure size 640x480 with 1 Axes>"
      ]
     },
     "metadata": {},
     "output_type": "display_data"
    }
   ],
   "source": [
    "img = X_train.T[random_index]\n",
    "img = np.reshape(img, (28,28))\n",
    "plt.imshow(img)"
   ]
  },
  {
   "cell_type": "code",
   "execution_count": 14,
   "id": "166e9afe-8c3a-4ca7-ab92-177a362277c3",
   "metadata": {
    "tags": []
   },
   "outputs": [
    {
     "data": {
      "text/plain": [
       "3"
      ]
     },
     "execution_count": 14,
     "metadata": {},
     "output_type": "execute_result"
    }
   ],
   "source": [
    "Y_train[random_index]"
   ]
  },
  {
   "cell_type": "markdown",
   "id": "26578f05-6e47-4afb-9457-578ad31424f0",
   "metadata": {},
   "source": [
    "**FUNTIONS**"
   ]
  },
  {
   "cell_type": "markdown",
   "id": "bdba8181-ffd3-4d1e-b376-adb9d6c43a9f",
   "metadata": {},
   "source": [
    "1. Initialize parameters"
   ]
  },
  {
   "cell_type": "code",
   "execution_count": 15,
   "id": "6ea0f027-e09e-447c-ac94-7a1fa05a2f90",
   "metadata": {
    "tags": []
   },
   "outputs": [],
   "source": [
    "def init_params():\n",
    "#     # Number of nodes in the input layer\n",
    "#     n_input = 784\n",
    "\n",
    "#     # Number of nodes in the hidden layer\n",
    "#     n_hidden = 10\n",
    "\n",
    "#     # Number of nodes in the output layer\n",
    "#     n_output = 10\n",
    "    #Initialize weights and biases for the hidden layer\n",
    "    W1 = np.random.rand(10, 784) - 0.5\n",
    "    b1 = np.random.rand(10, 1) - 0.5\n",
    "    \n",
    "    # Initialize weights and biases for the output layer\n",
    "    W2 = np.random.rand(10, 10) - 0.5\n",
    "    b2 = np.random.rand(10, 1) - 0.5\n",
    "    return W1, b1, W2, b2"
   ]
  },
  {
   "cell_type": "markdown",
   "id": "36ae04ab-f2ee-4e69-a3ae-17dff7fc0fc1",
   "metadata": {},
   "source": [
    "2. RELU"
   ]
  },
  {
   "cell_type": "code",
   "execution_count": 16,
   "id": "3a7768e8-ec48-46c6-8c73-5837f03cbc23",
   "metadata": {
    "tags": []
   },
   "outputs": [],
   "source": [
    "def ReLU(Z):\n",
    "    return np.maximum(Z, 0)"
   ]
  },
  {
   "cell_type": "markdown",
   "id": "9d7faa6e-2fb2-4d89-9bec-f92f3b6fe935",
   "metadata": {},
   "source": [
    "3. SOFTMAX"
   ]
  },
  {
   "cell_type": "code",
   "execution_count": 17,
   "id": "abc41dec-a23c-4b9b-84bf-ad8e55bf5fdf",
   "metadata": {
    "tags": []
   },
   "outputs": [],
   "source": [
    "def softmax(Z):\n",
    "    A = np.exp(Z) / sum(np.exp(Z))\n",
    "    return A"
   ]
  },
  {
   "cell_type": "markdown",
   "id": "48b79f34-6784-4b91-964c-28655d7de549",
   "metadata": {
    "tags": []
   },
   "source": [
    "4. RELU DERIVATIVE"
   ]
  },
  {
   "cell_type": "code",
   "execution_count": 18,
   "id": "bd5ee5cc-deea-4fe2-a391-aa5ef38409d0",
   "metadata": {
    "tags": []
   },
   "outputs": [],
   "source": [
    "def ReLU_deriv(Z):\n",
    "    return Z > 0"
   ]
  },
  {
   "cell_type": "markdown",
   "id": "1b076f66-ab9a-4cb5-8d50-60eb17ac075f",
   "metadata": {},
   "source": [
    "5. Forward Propagation"
   ]
  },
  {
   "cell_type": "code",
   "execution_count": 19,
   "id": "5717b8da-35c7-485d-8878-4f37f5511db3",
   "metadata": {
    "tags": []
   },
   "outputs": [],
   "source": [
    "def forward_prop(W1, b1, W2, b2, X):\n",
    "    Z1 = W1.dot(X) + b1\n",
    "    A1 = ReLU(Z1)\n",
    "    Z2 = W2.dot(A1) + b2\n",
    "    A2 = softmax(Z2)\n",
    "    return Z1, A1, Z2, A2"
   ]
  },
  {
   "cell_type": "markdown",
   "id": "2dbd5776-69e7-4cc7-b2a6-4c558e8a5e32",
   "metadata": {},
   "source": [
    "6. One Hot"
   ]
  },
  {
   "cell_type": "code",
   "execution_count": 20,
   "id": "c5d5b8ae-d0ae-4a5f-9408-41356607882f",
   "metadata": {
    "tags": []
   },
   "outputs": [],
   "source": [
    "def one_hot(Y):\n",
    "    one_hot_Y = np.zeros((Y.size, Y.max() + 1))\n",
    "    one_hot_Y[np.arange(Y.size), Y] = 1\n",
    "    one_hot_Y = one_hot_Y.T\n",
    "    return one_hot_Y"
   ]
  },
  {
   "cell_type": "markdown",
   "id": "9cc80238-e721-4332-95c3-0b97c2d77bf6",
   "metadata": {},
   "source": [
    "7. Backward Propagation"
   ]
  },
  {
   "cell_type": "code",
   "execution_count": 21,
   "id": "bb2f0513-f92b-492c-85db-66a5e022e9b2",
   "metadata": {
    "tags": []
   },
   "outputs": [],
   "source": [
    "def backward_prop(Z1, A1, Z2, A2, W1, W2, X, Y):\n",
    "    one_hot_Y = one_hot(Y)\n",
    "    dZ2 = A2 - one_hot_Y\n",
    "    dW2 = 1 / m * dZ2.dot(A1.T)\n",
    "    db2 = 1 / m * np.sum(dZ2)\n",
    "    dZ1 = W2.T.dot(dZ2) * ReLU_deriv(Z1)\n",
    "    dW1 = 1 / m * dZ1.dot(X.T)\n",
    "    db1 = 1 / m * np.sum(dZ1)\n",
    "    return dW1, db1, dW2, db2"
   ]
  },
  {
   "cell_type": "markdown",
   "id": "610b9faf-8bf9-4b32-8221-a8912ec3138f",
   "metadata": {},
   "source": [
    "8.Update Parameters"
   ]
  },
  {
   "cell_type": "code",
   "execution_count": 22,
   "id": "d00c11f2-8f4d-45bb-addb-b45417a20669",
   "metadata": {
    "tags": []
   },
   "outputs": [],
   "source": [
    "def update_params(W1, b1, W2, b2, dW1, db1, dW2, db2, alpha):\n",
    "    W1 = W1 - alpha * dW1\n",
    "    b1 = b1 - alpha * db1    \n",
    "    W2 = W2 - alpha * dW2  \n",
    "    b2 = b2 - alpha * db2    \n",
    "    return W1, b1, W2, b2"
   ]
  },
  {
   "cell_type": "markdown",
   "id": "9494e1a4-113c-4006-9194-9946d58ba363",
   "metadata": {},
   "source": [
    "9.Get predictions"
   ]
  },
  {
   "cell_type": "code",
   "execution_count": 23,
   "id": "08598b1d-078e-4d25-b10a-d64a6294b900",
   "metadata": {
    "tags": []
   },
   "outputs": [],
   "source": [
    "def get_predictions(A2):\n",
    "    return np.argmax(A2, 0)"
   ]
  },
  {
   "cell_type": "markdown",
   "id": "9c29b399-8751-4f40-b8ea-235b415e2f00",
   "metadata": {},
   "source": [
    "10. Accuracy"
   ]
  },
  {
   "cell_type": "code",
   "execution_count": 24,
   "id": "350616f0-8d97-4ea3-b204-2647396c13c8",
   "metadata": {
    "tags": []
   },
   "outputs": [],
   "source": [
    "def get_accuracy(predictions, Y):\n",
    "    #print(predictions, Y)\n",
    "    return np.sum(predictions == Y) / Y.size"
   ]
  },
  {
   "cell_type": "markdown",
   "id": "a59b5590-c5af-48ee-94e4-08dfa51da2fa",
   "metadata": {},
   "source": [
    "11. Gradient Descent"
   ]
  },
  {
   "cell_type": "code",
   "execution_count": 25,
   "id": "f2bc2201-16b2-4a30-8311-654a451d4531",
   "metadata": {
    "tags": []
   },
   "outputs": [],
   "source": [
    "# accuracy_scores = []  # To store accuracy scores at different iterations\n",
    "def gradient_descent(X, Y, alpha, iterations):\n",
    "    W1, b1, W2, b2 = init_params()\n",
    "    accuracy_scores = []  # To store accuracy scores at different iterations\n",
    "\n",
    "    for i in range(iterations):\n",
    "        Z1, A1, Z2, A2 = forward_prop(W1, b1, W2, b2, X)\n",
    "        dW1, db1, dW2, db2 = backward_prop(Z1, A1, Z2, A2, W1, W2, X, Y)\n",
    "        W1, b1, W2, b2 = update_params(W1, b1, W2, b2, dW1, db1, dW2, db2, alpha)\n",
    "        if i % 5 == 0:\n",
    "            print(\"Iteration: \", i)\n",
    "            predictions = get_predictions(A2)\n",
    "            accuracy = get_accuracy(predictions, Y)\n",
    "            print(accuracy)\n",
    "            accuracy_scores.append((i, accuracy))\n",
    "     # Convert accuracy_scores to separate lists for plotting\n",
    "    iterations, accuracies = zip(*accuracy_scores)\n",
    "   \n",
    "    # Plotting accuracy vs iterations\n",
    "    plt.plot(iterations, accuracies)\n",
    "    plt.grid()\n",
    "    plt.xlabel('Iterations')\n",
    "    plt.ylabel('Accuracy')\n",
    "    plt.title('Accuracy vs Iterations')\n",
    "    \n",
    "    # Create a legend with custom labels and place it at the top of the plot\n",
    "    legend_handles = [\n",
    "        plt.Line2D([], [], marker='o', color='w', label='THA076BEI009\\nTHA076BEI036', markersize=10, markerfacecolor='black', alpha=0)\n",
    "    ]\n",
    "    plt.legend(handles=legend_handles, loc='upper center', bbox_to_anchor=(0.84, 1.12))  # Adjust the bbox_to_anchor values\n",
    "\n",
    "    plt.show()\n",
    "    return W1, b1, W2, b2\n"
   ]
  },
  {
   "cell_type": "code",
   "execution_count": 26,
   "id": "d4ff0ac7-4439-479b-99bc-d9bd92d3497c",
   "metadata": {
    "tags": []
   },
   "outputs": [
    {
     "name": "stdout",
     "output_type": "stream",
     "text": [
      "Iteration:  0\n",
      "0.10353658536585365\n",
      "Iteration:  5\n",
      "0.11421951219512196\n",
      "Iteration:  10\n",
      "0.1505609756097561\n",
      "Iteration:  15\n",
      "0.18865853658536585\n",
      "Iteration:  20\n",
      "0.25670731707317074\n",
      "Iteration:  25\n",
      "0.31114634146341463\n",
      "Iteration:  30\n",
      "0.3479024390243902\n",
      "Iteration:  35\n",
      "0.37626829268292683\n",
      "Iteration:  40\n",
      "0.40102439024390246\n",
      "Iteration:  45\n",
      "0.4222682926829268\n",
      "Iteration:  50\n",
      "0.4460487804878049\n",
      "Iteration:  55\n",
      "0.468780487804878\n",
      "Iteration:  60\n",
      "0.4906829268292683\n",
      "Iteration:  65\n",
      "0.513219512195122\n",
      "Iteration:  70\n",
      "0.532390243902439\n",
      "Iteration:  75\n",
      "0.5511951219512196\n",
      "Iteration:  80\n",
      "0.568170731707317\n",
      "Iteration:  85\n",
      "0.5842439024390244\n",
      "Iteration:  90\n",
      "0.5990487804878049\n",
      "Iteration:  95\n",
      "0.6130487804878049\n",
      "Iteration:  100\n",
      "0.6252926829268293\n",
      "Iteration:  105\n",
      "0.6374634146341464\n",
      "Iteration:  110\n",
      "0.6482439024390244\n",
      "Iteration:  115\n",
      "0.6577073170731708\n",
      "Iteration:  120\n",
      "0.6669024390243903\n",
      "Iteration:  125\n",
      "0.6759756097560976\n",
      "Iteration:  130\n",
      "0.6835121951219513\n",
      "Iteration:  135\n",
      "0.691390243902439\n",
      "Iteration:  140\n",
      "0.6989268292682926\n",
      "Iteration:  145\n",
      "0.7055121951219512\n",
      "Iteration:  150\n",
      "0.7118536585365853\n",
      "Iteration:  155\n",
      "0.7174878048780488\n",
      "Iteration:  160\n",
      "0.7231463414634146\n",
      "Iteration:  165\n",
      "0.7288048780487805\n",
      "Iteration:  170\n",
      "0.7339756097560975\n",
      "Iteration:  175\n",
      "0.7386341463414634\n",
      "Iteration:  180\n",
      "0.7434146341463415\n",
      "Iteration:  185\n",
      "0.747609756097561\n",
      "Iteration:  190\n",
      "0.7515609756097561\n",
      "Iteration:  195\n",
      "0.7555365853658537\n",
      "Iteration:  200\n",
      "0.7586585365853659\n",
      "Iteration:  205\n",
      "0.7620487804878049\n",
      "Iteration:  210\n",
      "0.7652439024390244\n",
      "Iteration:  215\n",
      "0.7679512195121951\n",
      "Iteration:  220\n",
      "0.7702439024390244\n",
      "Iteration:  225\n",
      "0.772829268292683\n",
      "Iteration:  230\n",
      "0.7756585365853659\n",
      "Iteration:  235\n",
      "0.7781463414634147\n",
      "Iteration:  240\n",
      "0.7803170731707317\n",
      "Iteration:  245\n",
      "0.7831707317073171\n",
      "Iteration:  250\n",
      "0.786\n",
      "Iteration:  255\n",
      "0.7880731707317074\n",
      "Iteration:  260\n",
      "0.7900243902439025\n",
      "Iteration:  265\n",
      "0.7919756097560976\n",
      "Iteration:  270\n",
      "0.7936341463414635\n",
      "Iteration:  275\n",
      "0.7958536585365854\n",
      "Iteration:  280\n",
      "0.7978780487804878\n",
      "Iteration:  285\n",
      "0.7993902439024391\n",
      "Iteration:  290\n",
      "0.8010975609756098\n",
      "Iteration:  295\n",
      "0.8027560975609757\n",
      "Iteration:  300\n",
      "0.8042439024390244\n",
      "Iteration:  305\n",
      "0.806\n",
      "Iteration:  310\n",
      "0.8075853658536586\n",
      "Iteration:  315\n",
      "0.808829268292683\n",
      "Iteration:  320\n",
      "0.8100243902439025\n",
      "Iteration:  325\n",
      "0.8111219512195122\n",
      "Iteration:  330\n",
      "0.8125365853658536\n",
      "Iteration:  335\n",
      "0.8141951219512195\n",
      "Iteration:  340\n",
      "0.8152926829268292\n",
      "Iteration:  345\n",
      "0.8166097560975609\n",
      "Iteration:  350\n",
      "0.8179024390243902\n",
      "Iteration:  355\n",
      "0.818780487804878\n",
      "Iteration:  360\n",
      "0.8199756097560975\n",
      "Iteration:  365\n",
      "0.8209512195121951\n",
      "Iteration:  370\n",
      "0.8218292682926829\n",
      "Iteration:  375\n",
      "0.8227560975609756\n",
      "Iteration:  380\n",
      "0.8243658536585365\n",
      "Iteration:  385\n",
      "0.8253658536585365\n",
      "Iteration:  390\n",
      "0.8262926829268292\n",
      "Iteration:  395\n",
      "0.8270975609756097\n",
      "Iteration:  400\n",
      "0.828\n",
      "Iteration:  405\n",
      "0.8292439024390243\n",
      "Iteration:  410\n",
      "0.8301463414634146\n",
      "Iteration:  415\n",
      "0.8310731707317073\n",
      "Iteration:  420\n",
      "0.8319268292682926\n",
      "Iteration:  425\n",
      "0.8326097560975609\n",
      "Iteration:  430\n",
      "0.8334878048780487\n",
      "Iteration:  435\n",
      "0.8343658536585365\n",
      "Iteration:  440\n",
      "0.8353658536585366\n",
      "Iteration:  445\n",
      "0.8360487804878048\n",
      "Iteration:  450\n",
      "0.8369024390243902\n",
      "Iteration:  455\n",
      "0.8376585365853658\n",
      "Iteration:  460\n",
      "0.8381951219512195\n",
      "Iteration:  465\n",
      "0.8389268292682927\n",
      "Iteration:  470\n",
      "0.8395609756097561\n",
      "Iteration:  475\n",
      "0.8402439024390244\n",
      "Iteration:  480\n",
      "0.8409024390243902\n",
      "Iteration:  485\n",
      "0.8415853658536585\n",
      "Iteration:  490\n",
      "0.8424878048780488\n",
      "Iteration:  495\n",
      "0.8430243902439024\n",
      "Iteration:  500\n",
      "0.8436829268292683\n",
      "Iteration:  505\n",
      "0.8443170731707317\n",
      "Iteration:  510\n",
      "0.8450243902439024\n",
      "Iteration:  515\n",
      "0.8455853658536585\n",
      "Iteration:  520\n",
      "0.8460243902439024\n",
      "Iteration:  525\n",
      "0.8468780487804878\n",
      "Iteration:  530\n",
      "0.8472926829268292\n",
      "Iteration:  535\n",
      "0.847609756097561\n",
      "Iteration:  540\n",
      "0.8484146341463414\n",
      "Iteration:  545\n",
      "0.8491219512195122\n",
      "Iteration:  550\n",
      "0.8494634146341463\n",
      "Iteration:  555\n",
      "0.8499268292682927\n",
      "Iteration:  560\n",
      "0.8503414634146341\n",
      "Iteration:  565\n",
      "0.8508292682926829\n",
      "Iteration:  570\n",
      "0.8515609756097561\n",
      "Iteration:  575\n",
      "0.8521219512195122\n",
      "Iteration:  580\n",
      "0.8525121951219512\n",
      "Iteration:  585\n",
      "0.8529756097560975\n",
      "Iteration:  590\n",
      "0.8532682926829268\n",
      "Iteration:  595\n",
      "0.8538536585365853\n",
      "Iteration:  600\n",
      "0.8541463414634146\n",
      "Iteration:  605\n",
      "0.8546829268292683\n",
      "Iteration:  610\n",
      "0.8551951219512195\n",
      "Iteration:  615\n",
      "0.8555365853658536\n",
      "Iteration:  620\n",
      "0.8558780487804878\n",
      "Iteration:  625\n",
      "0.8560243902439024\n",
      "Iteration:  630\n",
      "0.8565853658536585\n",
      "Iteration:  635\n",
      "0.8568536585365853\n",
      "Iteration:  640\n",
      "0.8573170731707317\n",
      "Iteration:  645\n",
      "0.8575609756097561\n",
      "Iteration:  650\n",
      "0.857780487804878\n",
      "Iteration:  655\n",
      "0.8580731707317073\n",
      "Iteration:  660\n",
      "0.8582439024390244\n",
      "Iteration:  665\n",
      "0.8585609756097561\n",
      "Iteration:  670\n",
      "0.8589512195121951\n",
      "Iteration:  675\n",
      "0.8594146341463414\n",
      "Iteration:  680\n",
      "0.8597073170731707\n",
      "Iteration:  685\n",
      "0.86\n",
      "Iteration:  690\n",
      "0.8602439024390244\n",
      "Iteration:  695\n",
      "0.8606829268292683\n",
      "Iteration:  700\n",
      "0.8607560975609756\n",
      "Iteration:  705\n",
      "0.8610731707317073\n",
      "Iteration:  710\n",
      "0.8613170731707317\n",
      "Iteration:  715\n",
      "0.8614878048780488\n",
      "Iteration:  720\n",
      "0.8618292682926829\n",
      "Iteration:  725\n",
      "0.8621463414634146\n",
      "Iteration:  730\n",
      "0.8623414634146341\n",
      "Iteration:  735\n",
      "0.8625365853658536\n",
      "Iteration:  740\n",
      "0.8628780487804878\n",
      "Iteration:  745\n",
      "0.8633414634146341\n",
      "Iteration:  750\n",
      "0.8636341463414634\n",
      "Iteration:  755\n",
      "0.864\n",
      "Iteration:  760\n",
      "0.8641463414634146\n",
      "Iteration:  765\n",
      "0.8643170731707317\n",
      "Iteration:  770\n",
      "0.8644634146341463\n",
      "Iteration:  775\n",
      "0.8647560975609756\n",
      "Iteration:  780\n",
      "0.8648536585365854\n",
      "Iteration:  785\n",
      "0.8650975609756097\n",
      "Iteration:  790\n",
      "0.8652439024390244\n",
      "Iteration:  795\n",
      "0.8655609756097561\n"
     ]
    },
    {
     "data": {
      "image/png": "[encoded data removed]",
      "text/plain": [
       "<Figure size 640x480 with 1 Axes>"
      ]
     },
     "metadata": {},
     "output_type": "display_data"
    }
   ],
   "source": [
    "W1, b1, W2, b2 = gradient_descent(X_train, Y_train, 0.10, 800)"
   ]
  },
  {
   "cell_type": "markdown",
   "id": "2f60b762-fc77-491c-a142-faceb4093497",
   "metadata": {},
   "source": [
    "12. Make predictions"
   ]
  },
  {
   "cell_type": "code",
   "execution_count": 27,
   "id": "991fbf71-32aa-46f5-bad3-dec74c1f9fa2",
   "metadata": {
    "tags": []
   },
   "outputs": [],
   "source": [
    "def make_predictions(X, W1, b1, W2, b2):\n",
    "    _, _, _, A2 = forward_prop(W1, b1, W2, b2, X)\n",
    "    predictions = get_predictions(A2)\n",
    "    return predictions"
   ]
  },
  {
   "cell_type": "markdown",
   "id": "13d97fe9-1ca6-4b6a-982b-2dd8f83173f5",
   "metadata": {},
   "source": [
    "13. Test Predictions"
   ]
  },
  {
   "cell_type": "code",
   "execution_count": 28,
   "id": "dcf1d91f-1cab-4beb-b0e6-297241235dbe",
   "metadata": {
    "tags": []
   },
   "outputs": [],
   "source": [
    "def test_prediction(index, W1, b1, W2, b2):\n",
    "    current_image = X_train[:, index, None]\n",
    "    prediction = make_predictions(X_train[:, index, None], W1, b1, W2, b2)\n",
    "    label = Y_train[index]\n",
    "    print(\"Prediction: \", prediction)\n",
    "    print(\"Label: \", label)\n",
    "    legend_handles = [\n",
    "        plt.Line2D([], [], marker='o', color='w', label='THA076BEI009\\nTHA076BEI036', markersize=10, markerfacecolor='black', alpha=0)\n",
    "    ]\n",
    "    plt.legend(handles=legend_handles, loc='upper center', bbox_to_anchor=(0.84, 1.12))  # Adjust the bbox_to_anchor values\n",
    "\n",
    "    current_image = current_image.reshape((28, 28)) * 255\n",
    "    plt.gray()\n",
    "    plt.imshow(current_image, interpolation='nearest')\n",
    "\n",
    "    plt.show()"
   ]
  },
  {
   "cell_type": "code",
   "execution_count": 29,
   "id": "65f7eaac-46cc-4035-90a8-c48dd4a83908",
   "metadata": {
    "tags": []
   },
   "outputs": [
    {
     "name": "stdout",
     "output_type": "stream",
     "text": [
      "Prediction:  [3]\n",
      "Label:  3\n"
     ]
    },
    {
     "data": {
      "image/png": "[encoded data removed]",
      "text/plain": [
       "<Figure size 640x480 with 1 Axes>"
      ]
     },
     "metadata": {},
     "output_type": "display_data"
    }
   ],
   "source": [
    "test_prediction(0, W1, b1, W2, b2)\n"
   ]
  },
  {
   "cell_type": "code",
   "execution_count": 30,
   "id": "67763947",
   "metadata": {
    "scrolled": true
   },
   "outputs": [
    {
     "name": "stdout",
     "output_type": "stream",
     "text": [
      "Prediction:  [2]\n",
      "Label:  4\n"
     ]
    },
    {
     "data": {
      "image/png": "[encoded data removed]",
      "text/plain": [
       "<Figure size 640x480 with 1 Axes>"
      ]
     },
     "metadata": {},
     "output_type": "display_data"
    }
   ],
   "source": [
    "test_prediction(1, W1, b1, W2, b2)"
   ]
  },
  {
   "cell_type": "code",
   "execution_count": 31,
   "id": "43e32c14",
   "metadata": {},
   "outputs": [
    {
     "name": "stdout",
     "output_type": "stream",
     "text": [
      "Prediction:  [9]\n",
      "Label:  4\n"
     ]
    },
    {
     "data": {
      "image/png": "[encoded data removed]",
      "text/plain": [
       "<Figure size 640x480 with 1 Axes>"
      ]
     },
     "metadata": {},
     "output_type": "display_data"
    }
   ],
   "source": [
    "test_prediction(2, W1, b1, W2, b2)"
   ]
  },
  {
   "cell_type": "code",
   "execution_count": null,
   "id": "68f475da",
   "metadata": {},
   "outputs": [],
   "source": []
  },
  {
   "cell_type": "code",
   "execution_count": 32,
   "id": "216d5c22",
   "metadata": {},
   "outputs": [
    {
     "name": "stdout",
     "output_type": "stream",
     "text": [
      "Prediction:  [2]\n",
      "Label:  2\n"
     ]
    },
    {
     "data": {
      "image/png": "[encoded data removed]",
      "text/plain": [
       "<Figure size 640x480 with 1 Axes>"
      ]
     },
     "metadata": {},
     "output_type": "display_data"
    }
   ],
   "source": [
    "\n",
    "\n",
    "test_prediction(3, W1, b1, W2, b2)"
   ]
  },
  {
   "cell_type": "code",
   "execution_count": 33,
   "id": "4d653ff9-a69e-495b-91fb-bda87935e7b6",
   "metadata": {
    "tags": []
   },
   "outputs": [
    {
     "data": {
      "text/plain": [
       "0.867"
      ]
     },
     "execution_count": 33,
     "metadata": {},
     "output_type": "execute_result"
    }
   ],
   "source": [
    "abc_predictions = make_predictions(X_abc, W1, b1, W2, b2)\n",
    "get_accuracy(abc_predictions, Y_abc)"
   ]
  },
  {
   "cell_type": "code",
   "execution_count": 34,
   "id": "bb756100-ce46-4e88-9d26-c3567df65ea0",
   "metadata": {},
   "outputs": [
    {
     "name": "stdout",
     "output_type": "stream",
     "text": [
      "Classification Report:\n",
      "               precision    recall  f1-score   support\n",
      "\n",
      "           0     0.9355    0.9457    0.9405        92\n",
      "           1     0.9737    0.9098    0.9407       122\n",
      "           2     0.8972    0.8727    0.8848       110\n",
      "           3     0.8667    0.8835    0.8750       103\n",
      "           4     0.9032    0.8571    0.8796        98\n",
      "           5     0.7582    0.8118    0.7841        85\n",
      "           6     0.9140    0.8673    0.8901        98\n",
      "           7     0.8600    0.8515    0.8557       101\n",
      "           8     0.7800    0.8667    0.8211        90\n",
      "           9     0.7692    0.7921    0.7805       101\n",
      "\n",
      "    accuracy                         0.8670      1000\n",
      "   macro avg     0.8658    0.8658    0.8652      1000\n",
      "weighted avg     0.8701    0.8670    0.8680      1000\n",
      "\n"
     ]
    }
   ],
   "source": [
    "from sklearn.metrics import classification_report\n",
    "\n",
    "abc_predictions = make_predictions(X_abc, W1, b1, W2, b2)\n",
    "report = classification_report(abc_predictions,Y_abc, digits=4)\n",
    "\n",
    "print(\"Classification Report:\\n\", report)\n"
   ]
  },
  {
   "cell_type": "code",
   "execution_count": null,
   "id": "f674633a",
   "metadata": {},
   "outputs": [],
   "source": []
  },
  {
   "cell_type": "code",
   "execution_count": null,
   "id": "eb01f2f6",
   "metadata": {},
   "outputs": [],
   "source": []
  },
  {
   "cell_type": "code",
   "execution_count": null,
   "id": "fb72fd37",
   "metadata": {},
   "outputs": [],
   "source": []
  },
  {
   "cell_type": "code",
   "execution_count": null,
   "id": "0b311c1e",
   "metadata": {},
   "outputs": [],
   "source": []
  },
  {
   "cell_type": "code",
   "execution_count": null,
   "id": "ecbdceec",
   "metadata": {},
   "outputs": [],
   "source": []
  },
  {
   "cell_type": "code",
   "execution_count": null,
   "id": "5f574d03",
   "metadata": {},
   "outputs": [],
   "source": []
  },
  {
   "cell_type": "code",
   "execution_count": null,
   "id": "f1b77800",
   "metadata": {},
   "outputs": [],
   "source": []
  },
  {
   "cell_type": "code",
   "execution_count": null,
   "id": "2296f642",
   "metadata": {},
   "outputs": [],
   "source": []
  },
  {
   "cell_type": "code",
   "execution_count": null,
   "id": "099b8074",
   "metadata": {},
   "outputs": [],
   "source": []
  },
  {
   "cell_type": "code",
   "execution_count": null,
   "id": "b20c278d",
   "metadata": {},
   "outputs": [],
   "source": []
  },
  {
   "cell_type": "code",
   "execution_count": null,
   "id": "0b9a38dc",
   "metadata": {},
   "outputs": [],
   "source": []
  },
  {
   "cell_type": "code",
   "execution_count": null,
   "id": "feaa6451",
   "metadata": {},
   "outputs": [],
   "source": []
  },
  {
   "cell_type": "code",
   "execution_count": null,
   "id": "5ffe2220",
   "metadata": {},
   "outputs": [],
   "source": []
  },
  {
   "cell_type": "code",
   "execution_count": null,
   "id": "d2fc0d64",
   "metadata": {},
   "outputs": [],
   "source": []
  }
 ],
 "metadata": {
  "kernelspec": {
   "display_name": "Python 3 (ipykernel)",
   "language": "python",
   "name": "python3"
  },
  "language_info": {
   "codemirror_mode": {
    "name": "ipython",
    "version": 3
   },
   "file_extension": ".py",
   "mimetype": "text/x-python",
   "name": "python",
   "nbconvert_exporter": "python",
   "pygments_lexer": "ipython3",
   "version": "3.9.13"
  }
 },
 "nbformat": 4,
 "nbformat_minor": 5
}
